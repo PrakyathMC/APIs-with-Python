{
 "cells": [
  {
   "cell_type": "code",
   "execution_count": 8,
   "id": "0411c15e",
   "metadata": {
    "collapsed": true
   },
   "outputs": [
    {
     "name": "stdout",
     "output_type": "stream",
     "text": [
      "Requirement already satisfied: requests in c:\\users\\lapde\\appdata\\local\\programs\\python\\python310\\lib\\site-packages (2.28.2)"
     ]
    },
    {
     "name": "stderr",
     "output_type": "stream",
     "text": [
      "WARNING: Ignoring invalid distribution - (c:\\users\\lapde\\appdata\\local\\programs\\python\\python310\\lib\\site-packages)\n",
      "WARNING: Ignoring invalid distribution -rotobuf (c:\\users\\lapde\\appdata\\local\\programs\\python\\python310\\lib\\site-packages)\n",
      "WARNING: Ignoring invalid distribution - (c:\\users\\lapde\\appdata\\local\\programs\\python\\python310\\lib\\site-packages)\n",
      "WARNING: Ignoring invalid distribution -rotobuf (c:\\users\\lapde\\appdata\\local\\programs\\python\\python310\\lib\\site-packages)\n",
      "\n",
      "[notice] A new release of pip is available: 23.2.1 -> 23.3.1\n",
      "[notice] To update, run: python.exe -m pip install --upgrade pip\n"
     ]
    },
    {
     "name": "stdout",
     "output_type": "stream",
     "text": [
      "\n",
      "Requirement already satisfied: charset-normalizer<4,>=2 in c:\\users\\lapde\\appdata\\local\\programs\\python\\python310\\lib\\site-packages (from requests) (3.0.1)\n",
      "Requirement already satisfied: idna<4,>=2.5 in c:\\users\\lapde\\appdata\\local\\programs\\python\\python310\\lib\\site-packages (from requests) (3.4)\n",
      "Requirement already satisfied: urllib3<1.27,>=1.21.1 in c:\\users\\lapde\\appdata\\local\\programs\\python\\python310\\lib\\site-packages (from requests) (1.26.14)\n",
      "Requirement already satisfied: certifi>=2017.4.17 in c:\\users\\lapde\\appdata\\local\\programs\\python\\python310\\lib\\site-packages (from requests) (2022.12.7)\n"
     ]
    }
   ],
   "source": [
    "!pip install requests"
   ]
  },
  {
   "cell_type": "code",
   "execution_count": null,
   "id": "27bd7c68",
   "metadata": {},
   "outputs": [],
   "source": [
    "# !pip install requests\n",
    "# import requests\n",
    "# url = \"https://api.openweathermap.org/data/2.5/weather\"\n",
    "# # Making a GET request to the API\n",
    "# response = requests.get(url)\n",
    "# #Check if request was successfull\n",
    "# if response.status_code == 200:\n",
    "#     #parse JSON respose\n",
    "#     data = response.json()\n",
    "#     print(data)\n",
    "    \n",
    "# else:\n",
    "#     print(\"failed to get data!\")"
   ]
  },
  {
   "cell_type": "markdown",
   "id": "36f80bb5",
   "metadata": {},
   "source": [
    "## Example-1"
   ]
  },
  {
   "cell_type": "code",
   "execution_count": 18,
   "id": "0c8e9f3b",
   "metadata": {},
   "outputs": [
    {
     "name": "stdout",
     "output_type": "stream",
     "text": [
      "[{'id': 1, 'title': 'Fjallraven - Foldsack No. 1 Backpack, Fits 15 Laptops', 'price': 109.95, 'description': 'Your perfect pack for everyday use and walks in the forest. Stash your laptop (up to 15 inches) in the padded sleeve, your everyday', 'category': \"men's clothing\", 'image': 'https://fakestoreapi.com/img/81fPKd-2AYL._AC_SL1500_.jpg', 'rating': {'rate': 3.9, 'count': 120}}, {'id': 2, 'title': 'Mens Casual Premium Slim Fit T-Shirts ', 'price': 22.3, 'description': 'Slim-fitting style, contrast raglan long sleeve, three-button henley placket, light weight & soft fabric for breathable and comfortable wearing. And Solid stitched shirts with round neck made for durability and a great fit for casual fashion wear and diehard baseball fans. The Henley style round neckline includes a three-button placket.', 'category': \"men's clothing\", 'image': 'https://fakestoreapi.com/img/71-3HjGNDUL._AC_SY879._SX._UX._SY._UY_.jpg', 'rating': {'rate': 4.1, 'count': 259}}, {'id': 3, 'title': 'Mens Cotton Jacket', 'price': 55.99, 'description': 'great outerwear jackets for Spring/Autumn/Winter, suitable for many occasions, such as working, hiking, camping, mountain/rock climbing, cycling, traveling or other outdoors. Good gift choice for you or your family member. A warm hearted love to Father, husband or son in this thanksgiving or Christmas Day.', 'category': \"men's clothing\", 'image': 'https://fakestoreapi.com/img/71li-ujtlUL._AC_UX679_.jpg', 'rating': {'rate': 4.7, 'count': 500}}, {'id': 4, 'title': 'Mens Casual Slim Fit', 'price': 15.99, 'description': 'The color could be slightly different between on the screen and in practice. / Please note that body builds vary by person, therefore, detailed size information should be reviewed below on the product description.', 'category': \"men's clothing\", 'image': 'https://fakestoreapi.com/img/71YXzeOuslL._AC_UY879_.jpg', 'rating': {'rate': 2.1, 'count': 430}}, {'id': 5, 'title': \"John Hardy Women's Legends Naga Gold & Silver Dragon Station Chain Bracelet\", 'price': 695, 'description': \"From our Legends Collection, the Naga was inspired by the mythical water dragon that protects the ocean's pearl. Wear facing inward to be bestowed with love and abundance, or outward for protection.\", 'category': 'jewelery', 'image': 'https://fakestoreapi.com/img/71pWzhdJNwL._AC_UL640_QL65_ML3_.jpg', 'rating': {'rate': 4.6, 'count': 400}}, {'id': 6, 'title': 'Solid Gold Petite Micropave ', 'price': 168, 'description': 'Satisfaction Guaranteed. Return or exchange any order within 30 days.Designed and sold by Hafeez Center in the United States. Satisfaction Guaranteed. Return or exchange any order within 30 days.', 'category': 'jewelery', 'image': 'https://fakestoreapi.com/img/61sbMiUnoGL._AC_UL640_QL65_ML3_.jpg', 'rating': {'rate': 3.9, 'count': 70}}, {'id': 7, 'title': 'White Gold Plated Princess', 'price': 9.99, 'description': \"Classic Created Wedding Engagement Solitaire Diamond Promise Ring for Her. Gifts to spoil your love more for Engagement, Wedding, Anniversary, Valentine's Day...\", 'category': 'jewelery', 'image': 'https://fakestoreapi.com/img/71YAIFU48IL._AC_UL640_QL65_ML3_.jpg', 'rating': {'rate': 3, 'count': 400}}, {'id': 8, 'title': 'Pierced Owl Rose Gold Plated Stainless Steel Double', 'price': 10.99, 'description': 'Rose Gold Plated Double Flared Tunnel Plug Earrings. Made of 316L Stainless Steel', 'category': 'jewelery', 'image': 'https://fakestoreapi.com/img/51UDEzMJVpL._AC_UL640_QL65_ML3_.jpg', 'rating': {'rate': 1.9, 'count': 100}}, {'id': 9, 'title': 'WD 2TB Elements Portable External Hard Drive - USB 3.0 ', 'price': 64, 'description': 'USB 3.0 and USB 2.0 Compatibility Fast data transfers Improve PC Performance High Capacity; Compatibility Formatted NTFS for Windows 10, Windows 8.1, Windows 7; Reformatting may be required for other operating systems; Compatibility may vary depending on user’s hardware configuration and operating system', 'category': 'electronics', 'image': 'https://fakestoreapi.com/img/61IBBVJvSDL._AC_SY879_.jpg', 'rating': {'rate': 3.3, 'count': 203}}, {'id': 10, 'title': 'SanDisk SSD PLUS 1TB Internal SSD - SATA III 6 Gb/s', 'price': 109, 'description': 'Easy upgrade for faster boot up, shutdown, application load and response (As compared to 5400 RPM SATA 2.5” hard drive; Based on published specifications and internal benchmarking tests using PCMark vantage scores) Boosts burst write performance, making it ideal for typical PC workloads The perfect balance of performance and reliability Read/write speeds of up to 535MB/s/450MB/s (Based on internal testing; Performance may vary depending upon drive capacity, host device, OS and application.)', 'category': 'electronics', 'image': 'https://fakestoreapi.com/img/61U7T1koQqL._AC_SX679_.jpg', 'rating': {'rate': 2.9, 'count': 470}}, {'id': 11, 'title': 'Silicon Power 256GB SSD 3D NAND A55 SLC Cache Performance Boost SATA III 2.5', 'price': 109, 'description': '3D NAND flash are applied to deliver high transfer speeds Remarkable transfer speeds that enable faster bootup and improved overall system performance. The advanced SLC Cache Technology allows performance boost and longer lifespan 7mm slim design suitable for Ultrabooks and Ultra-slim notebooks. Supports TRIM command, Garbage Collection technology, RAID, and ECC (Error Checking & Correction) to provide the optimized performance and enhanced reliability.', 'category': 'electronics', 'image': 'https://fakestoreapi.com/img/71kWymZ+c+L._AC_SX679_.jpg', 'rating': {'rate': 4.8, 'count': 319}}, {'id': 12, 'title': 'WD 4TB Gaming Drive Works with Playstation 4 Portable External Hard Drive', 'price': 114, 'description': \"Expand your PS4 gaming experience, Play anywhere Fast and easy, setup Sleek design with high capacity, 3-year manufacturer's limited warranty\", 'category': 'electronics', 'image': 'https://fakestoreapi.com/img/61mtL65D4cL._AC_SX679_.jpg', 'rating': {'rate': 4.8, 'count': 400}}, {'id': 13, 'title': 'Acer SB220Q bi 21.5 inches Full HD (1920 x 1080) IPS Ultra-Thin', 'price': 599, 'description': '21. 5 inches Full HD (1920 x 1080) widescreen IPS display And Radeon free Sync technology. No compatibility for VESA Mount Refresh Rate: 75Hz - Using HDMI port Zero-frame design | ultra-thin | 4ms response time | IPS panel Aspect ratio - 16: 9. Color Supported - 16. 7 million colors. Brightness - 250 nit Tilt angle -5 degree to 15 degree. Horizontal viewing angle-178 degree. Vertical viewing angle-178 degree 75 hertz', 'category': 'electronics', 'image': 'https://fakestoreapi.com/img/81QpkIctqPL._AC_SX679_.jpg', 'rating': {'rate': 2.9, 'count': 250}}, {'id': 14, 'title': 'Samsung 49-Inch CHG90 144Hz Curved Gaming Monitor (LC49HG90DMNXZA) – Super Ultrawide Screen QLED ', 'price': 999.99, 'description': '49 INCH SUPER ULTRAWIDE 32:9 CURVED GAMING MONITOR with dual 27 inch screen side by side QUANTUM DOT (QLED) TECHNOLOGY, HDR support and factory calibration provides stunningly realistic and accurate color and contrast 144HZ HIGH REFRESH RATE and 1ms ultra fast response time work to eliminate motion blur, ghosting, and reduce input lag', 'category': 'electronics', 'image': 'https://fakestoreapi.com/img/81Zt42ioCgL._AC_SX679_.jpg', 'rating': {'rate': 2.2, 'count': 140}}, {'id': 15, 'title': \"BIYLACLESEN Women's 3-in-1 Snowboard Jacket Winter Coats\", 'price': 56.99, 'description': 'Note:The Jackets is US standard size, Please choose size as your usual wear Material: 100% Polyester; Detachable Liner Fabric: Warm Fleece. Detachable Functional Liner: Skin Friendly, Lightweigt and Warm.Stand Collar Liner jacket, keep you warm in cold weather. Zippered Pockets: 2 Zippered Hand Pockets, 2 Zippered Pockets on Chest (enough to keep cards or keys)and 1 Hidden Pocket Inside.Zippered Hand Pockets and Hidden Pocket keep your things secure. Humanized Design: Adjustable and Detachable Hood and Adjustable cuff to prevent the wind and water,for a comfortable fit. 3 in 1 Detachable Design provide more convenience, you can separate the coat and inner as needed, or wear it together. It is suitable for different season and help you adapt to different climates', 'category': \"women's clothing\", 'image': 'https://fakestoreapi.com/img/51Y5NI-I5jL._AC_UX679_.jpg', 'rating': {'rate': 2.6, 'count': 235}}, {'id': 16, 'title': \"Lock and Love Women's Removable Hooded Faux Leather Moto Biker Jacket\", 'price': 29.95, 'description': '100% POLYURETHANE(shell) 100% POLYESTER(lining) 75% POLYESTER 25% COTTON (SWEATER), Faux leather material for style and comfort / 2 pockets of front, 2-For-One Hooded denim style faux leather jacket, Button detail on waist / Detail stitching at sides, HAND WASH ONLY / DO NOT BLEACH / LINE DRY / DO NOT IRON', 'category': \"women's clothing\", 'image': 'https://fakestoreapi.com/img/81XH0e8fefL._AC_UY879_.jpg', 'rating': {'rate': 2.9, 'count': 340}}, {'id': 17, 'title': 'Rain Jacket Women Windbreaker Striped Climbing Raincoats', 'price': 39.99, 'description': \"Lightweight perfet for trip or casual wear---Long sleeve with hooded, adjustable drawstring waist design. Button and zipper front closure raincoat, fully stripes Lined and The Raincoat has 2 side pockets are a good size to hold all kinds of things, it covers the hips, and the hood is generous but doesn't overdo it.Attached Cotton Lined Hood with Adjustable Drawstrings give it a real styled look.\", 'category': \"women's clothing\", 'image': 'https://fakestoreapi.com/img/71HblAHs5xL._AC_UY879_-2.jpg', 'rating': {'rate': 3.8, 'count': 679}}, {'id': 18, 'title': \"MBJ Women's Solid Short Sleeve Boat Neck V \", 'price': 9.85, 'description': '95% RAYON 5% SPANDEX, Made in USA or Imported, Do Not Bleach, Lightweight fabric with great stretch for comfort, Ribbed on sleeves and neckline / Double stitching on bottom hem', 'category': \"women's clothing\", 'image': 'https://fakestoreapi.com/img/71z3kpMAYsL._AC_UY879_.jpg', 'rating': {'rate': 4.7, 'count': 130}}, {'id': 19, 'title': \"Opna Women's Short Sleeve Moisture\", 'price': 7.95, 'description': '100% Polyester, Machine wash, 100% cationic polyester interlock, Machine Wash & Pre Shrunk for a Great Fit, Lightweight, roomy and highly breathable with moisture wicking fabric which helps to keep moisture away, Soft Lightweight Fabric with comfortable V-neck collar and a slimmer fit, delivers a sleek, more feminine silhouette and Added Comfort', 'category': \"women's clothing\", 'image': 'https://fakestoreapi.com/img/51eg55uWmdL._AC_UX679_.jpg', 'rating': {'rate': 4.5, 'count': 146}}, {'id': 20, 'title': 'DANVOUY Womens T Shirt Casual Cotton Short', 'price': 12.99, 'description': '95%Cotton,5%Spandex, Features: Casual, Short Sleeve, Letter Print,V-Neck,Fashion Tees, The fabric is soft and has some stretch., Occasion: Casual/Office/Beach/School/Home/Street. Season: Spring,Summer,Autumn,Winter.', 'category': \"women's clothing\", 'image': 'https://fakestoreapi.com/img/61pHAEJ4NML._AC_UX679_.jpg', 'rating': {'rate': 3.6, 'count': 145}}]\n"
     ]
    }
   ],
   "source": [
    "import requests\n",
    "\n",
    "response = requests.get(\"https://fakestoreapi.com/products\")\n",
    "\n",
    "print(response.json())"
   ]
  },
  {
   "cell_type": "code",
   "execution_count": null,
   "id": "0ddc4ace",
   "metadata": {},
   "outputs": [],
   "source": []
  },
  {
   "cell_type": "code",
   "execution_count": 19,
   "id": "ca81b7ea",
   "metadata": {},
   "outputs": [],
   "source": [
    "import pandas as pd"
   ]
  },
  {
   "cell_type": "code",
   "execution_count": 21,
   "id": "017ca7f5",
   "metadata": {},
   "outputs": [],
   "source": [
    "import numpy as np"
   ]
  },
  {
   "cell_type": "code",
   "execution_count": 22,
   "id": "82984617",
   "metadata": {},
   "outputs": [],
   "source": [
    "data = response.json()"
   ]
  },
  {
   "cell_type": "code",
   "execution_count": 23,
   "id": "8b0d8f5f",
   "metadata": {},
   "outputs": [],
   "source": [
    "df = pd.DataFrame(data)"
   ]
  },
  {
   "cell_type": "code",
   "execution_count": 26,
   "id": "30f707b0",
   "metadata": {},
   "outputs": [
    {
     "data": {
      "text/html": [
       "<div>\n",
       "<style scoped>\n",
       "    .dataframe tbody tr th:only-of-type {\n",
       "        vertical-align: middle;\n",
       "    }\n",
       "\n",
       "    .dataframe tbody tr th {\n",
       "        vertical-align: top;\n",
       "    }\n",
       "\n",
       "    .dataframe thead th {\n",
       "        text-align: right;\n",
       "    }\n",
       "</style>\n",
       "<table border=\"1\" class=\"dataframe\">\n",
       "  <thead>\n",
       "    <tr style=\"text-align: right;\">\n",
       "      <th></th>\n",
       "      <th>id</th>\n",
       "      <th>title</th>\n",
       "      <th>price</th>\n",
       "      <th>description</th>\n",
       "      <th>category</th>\n",
       "      <th>image</th>\n",
       "      <th>rating</th>\n",
       "    </tr>\n",
       "  </thead>\n",
       "  <tbody>\n",
       "    <tr>\n",
       "      <th>0</th>\n",
       "      <td>1</td>\n",
       "      <td>Fjallraven - Foldsack No. 1 Backpack, Fits 15 ...</td>\n",
       "      <td>109.95</td>\n",
       "      <td>Your perfect pack for everyday use and walks i...</td>\n",
       "      <td>men's clothing</td>\n",
       "      <td>https://fakestoreapi.com/img/81fPKd-2AYL._AC_S...</td>\n",
       "      <td>{'rate': 3.9, 'count': 120}</td>\n",
       "    </tr>\n",
       "    <tr>\n",
       "      <th>1</th>\n",
       "      <td>2</td>\n",
       "      <td>Mens Casual Premium Slim Fit T-Shirts</td>\n",
       "      <td>22.30</td>\n",
       "      <td>Slim-fitting style, contrast raglan long sleev...</td>\n",
       "      <td>men's clothing</td>\n",
       "      <td>https://fakestoreapi.com/img/71-3HjGNDUL._AC_S...</td>\n",
       "      <td>{'rate': 4.1, 'count': 259}</td>\n",
       "    </tr>\n",
       "    <tr>\n",
       "      <th>2</th>\n",
       "      <td>3</td>\n",
       "      <td>Mens Cotton Jacket</td>\n",
       "      <td>55.99</td>\n",
       "      <td>great outerwear jackets for Spring/Autumn/Wint...</td>\n",
       "      <td>men's clothing</td>\n",
       "      <td>https://fakestoreapi.com/img/71li-ujtlUL._AC_U...</td>\n",
       "      <td>{'rate': 4.7, 'count': 500}</td>\n",
       "    </tr>\n",
       "    <tr>\n",
       "      <th>3</th>\n",
       "      <td>4</td>\n",
       "      <td>Mens Casual Slim Fit</td>\n",
       "      <td>15.99</td>\n",
       "      <td>The color could be slightly different between ...</td>\n",
       "      <td>men's clothing</td>\n",
       "      <td>https://fakestoreapi.com/img/71YXzeOuslL._AC_U...</td>\n",
       "      <td>{'rate': 2.1, 'count': 430}</td>\n",
       "    </tr>\n",
       "    <tr>\n",
       "      <th>4</th>\n",
       "      <td>5</td>\n",
       "      <td>John Hardy Women's Legends Naga Gold &amp; Silver ...</td>\n",
       "      <td>695.00</td>\n",
       "      <td>From our Legends Collection, the Naga was insp...</td>\n",
       "      <td>jewelery</td>\n",
       "      <td>https://fakestoreapi.com/img/71pWzhdJNwL._AC_U...</td>\n",
       "      <td>{'rate': 4.6, 'count': 400}</td>\n",
       "    </tr>\n",
       "  </tbody>\n",
       "</table>\n",
       "</div>"
      ],
      "text/plain": [
       "   id                                              title   price  \\\n",
       "0   1  Fjallraven - Foldsack No. 1 Backpack, Fits 15 ...  109.95   \n",
       "1   2             Mens Casual Premium Slim Fit T-Shirts    22.30   \n",
       "2   3                                 Mens Cotton Jacket   55.99   \n",
       "3   4                               Mens Casual Slim Fit   15.99   \n",
       "4   5  John Hardy Women's Legends Naga Gold & Silver ...  695.00   \n",
       "\n",
       "                                         description        category  \\\n",
       "0  Your perfect pack for everyday use and walks i...  men's clothing   \n",
       "1  Slim-fitting style, contrast raglan long sleev...  men's clothing   \n",
       "2  great outerwear jackets for Spring/Autumn/Wint...  men's clothing   \n",
       "3  The color could be slightly different between ...  men's clothing   \n",
       "4  From our Legends Collection, the Naga was insp...        jewelery   \n",
       "\n",
       "                                               image  \\\n",
       "0  https://fakestoreapi.com/img/81fPKd-2AYL._AC_S...   \n",
       "1  https://fakestoreapi.com/img/71-3HjGNDUL._AC_S...   \n",
       "2  https://fakestoreapi.com/img/71li-ujtlUL._AC_U...   \n",
       "3  https://fakestoreapi.com/img/71YXzeOuslL._AC_U...   \n",
       "4  https://fakestoreapi.com/img/71pWzhdJNwL._AC_U...   \n",
       "\n",
       "                        rating  \n",
       "0  {'rate': 3.9, 'count': 120}  \n",
       "1  {'rate': 4.1, 'count': 259}  \n",
       "2  {'rate': 4.7, 'count': 500}  \n",
       "3  {'rate': 2.1, 'count': 430}  \n",
       "4  {'rate': 4.6, 'count': 400}  "
      ]
     },
     "execution_count": 26,
     "metadata": {},
     "output_type": "execute_result"
    }
   ],
   "source": [
    "df.head()"
   ]
  },
  {
   "cell_type": "code",
   "execution_count": 29,
   "id": "7d9ddb99",
   "metadata": {},
   "outputs": [
    {
     "data": {
      "text/plain": [
       "Index(['id', 'title', 'price', 'description', 'category', 'image', 'rating'], dtype='object')"
      ]
     },
     "execution_count": 29,
     "metadata": {},
     "output_type": "execute_result"
    }
   ],
   "source": [
    "df.columns"
   ]
  },
  {
   "cell_type": "code",
   "execution_count": 30,
   "id": "c8e92dde",
   "metadata": {},
   "outputs": [
    {
     "data": {
      "text/plain": [
       "(20, 7)"
      ]
     },
     "execution_count": 30,
     "metadata": {},
     "output_type": "execute_result"
    }
   ],
   "source": [
    "df.shape"
   ]
  },
  {
   "cell_type": "code",
   "execution_count": 31,
   "id": "f6c213fe",
   "metadata": {},
   "outputs": [
    {
     "data": {
      "text/html": [
       "<div>\n",
       "<style scoped>\n",
       "    .dataframe tbody tr th:only-of-type {\n",
       "        vertical-align: middle;\n",
       "    }\n",
       "\n",
       "    .dataframe tbody tr th {\n",
       "        vertical-align: top;\n",
       "    }\n",
       "\n",
       "    .dataframe thead th {\n",
       "        text-align: right;\n",
       "    }\n",
       "</style>\n",
       "<table border=\"1\" class=\"dataframe\">\n",
       "  <thead>\n",
       "    <tr style=\"text-align: right;\">\n",
       "      <th></th>\n",
       "      <th>id</th>\n",
       "      <th>title</th>\n",
       "      <th>price</th>\n",
       "      <th>description</th>\n",
       "      <th>category</th>\n",
       "      <th>image</th>\n",
       "      <th>rating</th>\n",
       "    </tr>\n",
       "  </thead>\n",
       "  <tbody>\n",
       "    <tr>\n",
       "      <th>0</th>\n",
       "      <td>1</td>\n",
       "      <td>Fjallraven - Foldsack No. 1 Backpack, Fits 15 ...</td>\n",
       "      <td>109.95</td>\n",
       "      <td>Your perfect pack for everyday use and walks i...</td>\n",
       "      <td>men's clothing</td>\n",
       "      <td>https://fakestoreapi.com/img/81fPKd-2AYL._AC_S...</td>\n",
       "      <td>{'rate': 3.9, 'count': 120}</td>\n",
       "    </tr>\n",
       "    <tr>\n",
       "      <th>1</th>\n",
       "      <td>2</td>\n",
       "      <td>Mens Casual Premium Slim Fit T-Shirts</td>\n",
       "      <td>22.30</td>\n",
       "      <td>Slim-fitting style, contrast raglan long sleev...</td>\n",
       "      <td>men's clothing</td>\n",
       "      <td>https://fakestoreapi.com/img/71-3HjGNDUL._AC_S...</td>\n",
       "      <td>{'rate': 4.1, 'count': 259}</td>\n",
       "    </tr>\n",
       "    <tr>\n",
       "      <th>2</th>\n",
       "      <td>3</td>\n",
       "      <td>Mens Cotton Jacket</td>\n",
       "      <td>55.99</td>\n",
       "      <td>great outerwear jackets for Spring/Autumn/Wint...</td>\n",
       "      <td>men's clothing</td>\n",
       "      <td>https://fakestoreapi.com/img/71li-ujtlUL._AC_U...</td>\n",
       "      <td>{'rate': 4.7, 'count': 500}</td>\n",
       "    </tr>\n",
       "    <tr>\n",
       "      <th>3</th>\n",
       "      <td>4</td>\n",
       "      <td>Mens Casual Slim Fit</td>\n",
       "      <td>15.99</td>\n",
       "      <td>The color could be slightly different between ...</td>\n",
       "      <td>men's clothing</td>\n",
       "      <td>https://fakestoreapi.com/img/71YXzeOuslL._AC_U...</td>\n",
       "      <td>{'rate': 2.1, 'count': 430}</td>\n",
       "    </tr>\n",
       "    <tr>\n",
       "      <th>4</th>\n",
       "      <td>5</td>\n",
       "      <td>John Hardy Women's Legends Naga Gold &amp; Silver ...</td>\n",
       "      <td>695.00</td>\n",
       "      <td>From our Legends Collection, the Naga was insp...</td>\n",
       "      <td>jewelery</td>\n",
       "      <td>https://fakestoreapi.com/img/71pWzhdJNwL._AC_U...</td>\n",
       "      <td>{'rate': 4.6, 'count': 400}</td>\n",
       "    </tr>\n",
       "    <tr>\n",
       "      <th>5</th>\n",
       "      <td>6</td>\n",
       "      <td>Solid Gold Petite Micropave</td>\n",
       "      <td>168.00</td>\n",
       "      <td>Satisfaction Guaranteed. Return or exchange an...</td>\n",
       "      <td>jewelery</td>\n",
       "      <td>https://fakestoreapi.com/img/61sbMiUnoGL._AC_U...</td>\n",
       "      <td>{'rate': 3.9, 'count': 70}</td>\n",
       "    </tr>\n",
       "    <tr>\n",
       "      <th>6</th>\n",
       "      <td>7</td>\n",
       "      <td>White Gold Plated Princess</td>\n",
       "      <td>9.99</td>\n",
       "      <td>Classic Created Wedding Engagement Solitaire D...</td>\n",
       "      <td>jewelery</td>\n",
       "      <td>https://fakestoreapi.com/img/71YAIFU48IL._AC_U...</td>\n",
       "      <td>{'rate': 3, 'count': 400}</td>\n",
       "    </tr>\n",
       "    <tr>\n",
       "      <th>7</th>\n",
       "      <td>8</td>\n",
       "      <td>Pierced Owl Rose Gold Plated Stainless Steel D...</td>\n",
       "      <td>10.99</td>\n",
       "      <td>Rose Gold Plated Double Flared Tunnel Plug Ear...</td>\n",
       "      <td>jewelery</td>\n",
       "      <td>https://fakestoreapi.com/img/51UDEzMJVpL._AC_U...</td>\n",
       "      <td>{'rate': 1.9, 'count': 100}</td>\n",
       "    </tr>\n",
       "    <tr>\n",
       "      <th>8</th>\n",
       "      <td>9</td>\n",
       "      <td>WD 2TB Elements Portable External Hard Drive -...</td>\n",
       "      <td>64.00</td>\n",
       "      <td>USB 3.0 and USB 2.0 Compatibility Fast data tr...</td>\n",
       "      <td>electronics</td>\n",
       "      <td>https://fakestoreapi.com/img/61IBBVJvSDL._AC_S...</td>\n",
       "      <td>{'rate': 3.3, 'count': 203}</td>\n",
       "    </tr>\n",
       "    <tr>\n",
       "      <th>9</th>\n",
       "      <td>10</td>\n",
       "      <td>SanDisk SSD PLUS 1TB Internal SSD - SATA III 6...</td>\n",
       "      <td>109.00</td>\n",
       "      <td>Easy upgrade for faster boot up, shutdown, app...</td>\n",
       "      <td>electronics</td>\n",
       "      <td>https://fakestoreapi.com/img/61U7T1koQqL._AC_S...</td>\n",
       "      <td>{'rate': 2.9, 'count': 470}</td>\n",
       "    </tr>\n",
       "    <tr>\n",
       "      <th>10</th>\n",
       "      <td>11</td>\n",
       "      <td>Silicon Power 256GB SSD 3D NAND A55 SLC Cache ...</td>\n",
       "      <td>109.00</td>\n",
       "      <td>3D NAND flash are applied to deliver high tran...</td>\n",
       "      <td>electronics</td>\n",
       "      <td>https://fakestoreapi.com/img/71kWymZ+c+L._AC_S...</td>\n",
       "      <td>{'rate': 4.8, 'count': 319}</td>\n",
       "    </tr>\n",
       "    <tr>\n",
       "      <th>11</th>\n",
       "      <td>12</td>\n",
       "      <td>WD 4TB Gaming Drive Works with Playstation 4 P...</td>\n",
       "      <td>114.00</td>\n",
       "      <td>Expand your PS4 gaming experience, Play anywhe...</td>\n",
       "      <td>electronics</td>\n",
       "      <td>https://fakestoreapi.com/img/61mtL65D4cL._AC_S...</td>\n",
       "      <td>{'rate': 4.8, 'count': 400}</td>\n",
       "    </tr>\n",
       "    <tr>\n",
       "      <th>12</th>\n",
       "      <td>13</td>\n",
       "      <td>Acer SB220Q bi 21.5 inches Full HD (1920 x 108...</td>\n",
       "      <td>599.00</td>\n",
       "      <td>21. 5 inches Full HD (1920 x 1080) widescreen ...</td>\n",
       "      <td>electronics</td>\n",
       "      <td>https://fakestoreapi.com/img/81QpkIctqPL._AC_S...</td>\n",
       "      <td>{'rate': 2.9, 'count': 250}</td>\n",
       "    </tr>\n",
       "    <tr>\n",
       "      <th>13</th>\n",
       "      <td>14</td>\n",
       "      <td>Samsung 49-Inch CHG90 144Hz Curved Gaming Moni...</td>\n",
       "      <td>999.99</td>\n",
       "      <td>49 INCH SUPER ULTRAWIDE 32:9 CURVED GAMING MON...</td>\n",
       "      <td>electronics</td>\n",
       "      <td>https://fakestoreapi.com/img/81Zt42ioCgL._AC_S...</td>\n",
       "      <td>{'rate': 2.2, 'count': 140}</td>\n",
       "    </tr>\n",
       "    <tr>\n",
       "      <th>14</th>\n",
       "      <td>15</td>\n",
       "      <td>BIYLACLESEN Women's 3-in-1 Snowboard Jacket Wi...</td>\n",
       "      <td>56.99</td>\n",
       "      <td>Note:The Jackets is US standard size, Please c...</td>\n",
       "      <td>women's clothing</td>\n",
       "      <td>https://fakestoreapi.com/img/51Y5NI-I5jL._AC_U...</td>\n",
       "      <td>{'rate': 2.6, 'count': 235}</td>\n",
       "    </tr>\n",
       "    <tr>\n",
       "      <th>15</th>\n",
       "      <td>16</td>\n",
       "      <td>Lock and Love Women's Removable Hooded Faux Le...</td>\n",
       "      <td>29.95</td>\n",
       "      <td>100% POLYURETHANE(shell) 100% POLYESTER(lining...</td>\n",
       "      <td>women's clothing</td>\n",
       "      <td>https://fakestoreapi.com/img/81XH0e8fefL._AC_U...</td>\n",
       "      <td>{'rate': 2.9, 'count': 340}</td>\n",
       "    </tr>\n",
       "    <tr>\n",
       "      <th>16</th>\n",
       "      <td>17</td>\n",
       "      <td>Rain Jacket Women Windbreaker Striped Climbing...</td>\n",
       "      <td>39.99</td>\n",
       "      <td>Lightweight perfet for trip or casual wear---L...</td>\n",
       "      <td>women's clothing</td>\n",
       "      <td>https://fakestoreapi.com/img/71HblAHs5xL._AC_U...</td>\n",
       "      <td>{'rate': 3.8, 'count': 679}</td>\n",
       "    </tr>\n",
       "    <tr>\n",
       "      <th>17</th>\n",
       "      <td>18</td>\n",
       "      <td>MBJ Women's Solid Short Sleeve Boat Neck V</td>\n",
       "      <td>9.85</td>\n",
       "      <td>95% RAYON 5% SPANDEX, Made in USA or Imported,...</td>\n",
       "      <td>women's clothing</td>\n",
       "      <td>https://fakestoreapi.com/img/71z3kpMAYsL._AC_U...</td>\n",
       "      <td>{'rate': 4.7, 'count': 130}</td>\n",
       "    </tr>\n",
       "    <tr>\n",
       "      <th>18</th>\n",
       "      <td>19</td>\n",
       "      <td>Opna Women's Short Sleeve Moisture</td>\n",
       "      <td>7.95</td>\n",
       "      <td>100% Polyester, Machine wash, 100% cationic po...</td>\n",
       "      <td>women's clothing</td>\n",
       "      <td>https://fakestoreapi.com/img/51eg55uWmdL._AC_U...</td>\n",
       "      <td>{'rate': 4.5, 'count': 146}</td>\n",
       "    </tr>\n",
       "    <tr>\n",
       "      <th>19</th>\n",
       "      <td>20</td>\n",
       "      <td>DANVOUY Womens T Shirt Casual Cotton Short</td>\n",
       "      <td>12.99</td>\n",
       "      <td>95%Cotton,5%Spandex, Features: Casual, Short S...</td>\n",
       "      <td>women's clothing</td>\n",
       "      <td>https://fakestoreapi.com/img/61pHAEJ4NML._AC_U...</td>\n",
       "      <td>{'rate': 3.6, 'count': 145}</td>\n",
       "    </tr>\n",
       "  </tbody>\n",
       "</table>\n",
       "</div>"
      ],
      "text/plain": [
       "    id                                              title   price  \\\n",
       "0    1  Fjallraven - Foldsack No. 1 Backpack, Fits 15 ...  109.95   \n",
       "1    2             Mens Casual Premium Slim Fit T-Shirts    22.30   \n",
       "2    3                                 Mens Cotton Jacket   55.99   \n",
       "3    4                               Mens Casual Slim Fit   15.99   \n",
       "4    5  John Hardy Women's Legends Naga Gold & Silver ...  695.00   \n",
       "5    6                       Solid Gold Petite Micropave   168.00   \n",
       "6    7                         White Gold Plated Princess    9.99   \n",
       "7    8  Pierced Owl Rose Gold Plated Stainless Steel D...   10.99   \n",
       "8    9  WD 2TB Elements Portable External Hard Drive -...   64.00   \n",
       "9   10  SanDisk SSD PLUS 1TB Internal SSD - SATA III 6...  109.00   \n",
       "10  11  Silicon Power 256GB SSD 3D NAND A55 SLC Cache ...  109.00   \n",
       "11  12  WD 4TB Gaming Drive Works with Playstation 4 P...  114.00   \n",
       "12  13  Acer SB220Q bi 21.5 inches Full HD (1920 x 108...  599.00   \n",
       "13  14  Samsung 49-Inch CHG90 144Hz Curved Gaming Moni...  999.99   \n",
       "14  15  BIYLACLESEN Women's 3-in-1 Snowboard Jacket Wi...   56.99   \n",
       "15  16  Lock and Love Women's Removable Hooded Faux Le...   29.95   \n",
       "16  17  Rain Jacket Women Windbreaker Striped Climbing...   39.99   \n",
       "17  18        MBJ Women's Solid Short Sleeve Boat Neck V     9.85   \n",
       "18  19                 Opna Women's Short Sleeve Moisture    7.95   \n",
       "19  20         DANVOUY Womens T Shirt Casual Cotton Short   12.99   \n",
       "\n",
       "                                          description          category  \\\n",
       "0   Your perfect pack for everyday use and walks i...    men's clothing   \n",
       "1   Slim-fitting style, contrast raglan long sleev...    men's clothing   \n",
       "2   great outerwear jackets for Spring/Autumn/Wint...    men's clothing   \n",
       "3   The color could be slightly different between ...    men's clothing   \n",
       "4   From our Legends Collection, the Naga was insp...          jewelery   \n",
       "5   Satisfaction Guaranteed. Return or exchange an...          jewelery   \n",
       "6   Classic Created Wedding Engagement Solitaire D...          jewelery   \n",
       "7   Rose Gold Plated Double Flared Tunnel Plug Ear...          jewelery   \n",
       "8   USB 3.0 and USB 2.0 Compatibility Fast data tr...       electronics   \n",
       "9   Easy upgrade for faster boot up, shutdown, app...       electronics   \n",
       "10  3D NAND flash are applied to deliver high tran...       electronics   \n",
       "11  Expand your PS4 gaming experience, Play anywhe...       electronics   \n",
       "12  21. 5 inches Full HD (1920 x 1080) widescreen ...       electronics   \n",
       "13  49 INCH SUPER ULTRAWIDE 32:9 CURVED GAMING MON...       electronics   \n",
       "14  Note:The Jackets is US standard size, Please c...  women's clothing   \n",
       "15  100% POLYURETHANE(shell) 100% POLYESTER(lining...  women's clothing   \n",
       "16  Lightweight perfet for trip or casual wear---L...  women's clothing   \n",
       "17  95% RAYON 5% SPANDEX, Made in USA or Imported,...  women's clothing   \n",
       "18  100% Polyester, Machine wash, 100% cationic po...  women's clothing   \n",
       "19  95%Cotton,5%Spandex, Features: Casual, Short S...  women's clothing   \n",
       "\n",
       "                                                image  \\\n",
       "0   https://fakestoreapi.com/img/81fPKd-2AYL._AC_S...   \n",
       "1   https://fakestoreapi.com/img/71-3HjGNDUL._AC_S...   \n",
       "2   https://fakestoreapi.com/img/71li-ujtlUL._AC_U...   \n",
       "3   https://fakestoreapi.com/img/71YXzeOuslL._AC_U...   \n",
       "4   https://fakestoreapi.com/img/71pWzhdJNwL._AC_U...   \n",
       "5   https://fakestoreapi.com/img/61sbMiUnoGL._AC_U...   \n",
       "6   https://fakestoreapi.com/img/71YAIFU48IL._AC_U...   \n",
       "7   https://fakestoreapi.com/img/51UDEzMJVpL._AC_U...   \n",
       "8   https://fakestoreapi.com/img/61IBBVJvSDL._AC_S...   \n",
       "9   https://fakestoreapi.com/img/61U7T1koQqL._AC_S...   \n",
       "10  https://fakestoreapi.com/img/71kWymZ+c+L._AC_S...   \n",
       "11  https://fakestoreapi.com/img/61mtL65D4cL._AC_S...   \n",
       "12  https://fakestoreapi.com/img/81QpkIctqPL._AC_S...   \n",
       "13  https://fakestoreapi.com/img/81Zt42ioCgL._AC_S...   \n",
       "14  https://fakestoreapi.com/img/51Y5NI-I5jL._AC_U...   \n",
       "15  https://fakestoreapi.com/img/81XH0e8fefL._AC_U...   \n",
       "16  https://fakestoreapi.com/img/71HblAHs5xL._AC_U...   \n",
       "17  https://fakestoreapi.com/img/71z3kpMAYsL._AC_U...   \n",
       "18  https://fakestoreapi.com/img/51eg55uWmdL._AC_U...   \n",
       "19  https://fakestoreapi.com/img/61pHAEJ4NML._AC_U...   \n",
       "\n",
       "                         rating  \n",
       "0   {'rate': 3.9, 'count': 120}  \n",
       "1   {'rate': 4.1, 'count': 259}  \n",
       "2   {'rate': 4.7, 'count': 500}  \n",
       "3   {'rate': 2.1, 'count': 430}  \n",
       "4   {'rate': 4.6, 'count': 400}  \n",
       "5    {'rate': 3.9, 'count': 70}  \n",
       "6     {'rate': 3, 'count': 400}  \n",
       "7   {'rate': 1.9, 'count': 100}  \n",
       "8   {'rate': 3.3, 'count': 203}  \n",
       "9   {'rate': 2.9, 'count': 470}  \n",
       "10  {'rate': 4.8, 'count': 319}  \n",
       "11  {'rate': 4.8, 'count': 400}  \n",
       "12  {'rate': 2.9, 'count': 250}  \n",
       "13  {'rate': 2.2, 'count': 140}  \n",
       "14  {'rate': 2.6, 'count': 235}  \n",
       "15  {'rate': 2.9, 'count': 340}  \n",
       "16  {'rate': 3.8, 'count': 679}  \n",
       "17  {'rate': 4.7, 'count': 130}  \n",
       "18  {'rate': 4.5, 'count': 146}  \n",
       "19  {'rate': 3.6, 'count': 145}  "
      ]
     },
     "execution_count": 31,
     "metadata": {},
     "output_type": "execute_result"
    }
   ],
   "source": [
    "df.head(20)"
   ]
  },
  {
   "cell_type": "markdown",
   "id": "3c19fc60",
   "metadata": {},
   "source": [
    "## Example-2"
   ]
  },
  {
   "cell_type": "code",
   "execution_count": 33,
   "id": "46c2a028",
   "metadata": {},
   "outputs": [
    {
     "name": "stdout",
     "output_type": "stream",
     "text": [
      "[{'weight': {'imperial': '6 - 13', 'metric': '3 - 6'}, 'height': {'imperial': '9 - 11.5', 'metric': '23 - 29'}, 'id': 1, 'name': 'Affenpinscher', 'bred_for': 'Small rodent hunting, lapdog', 'breed_group': 'Toy', 'life_span': '10 - 12 years', 'temperament': 'Stubborn, Curious, Playful, Adventurous, Active, Fun-loving', 'origin': 'Germany, France', 'reference_image_id': 'BJa4kxc4X'}, {'weight': {'imperial': '50 - 60', 'metric': '23 - 27'}, 'height': {'imperial': '25 - 27', 'metric': '64 - 69'}, 'id': 2, 'name': 'Afghan Hound', 'country_code': 'AG', 'bred_for': 'Coursing and hunting', 'breed_group': 'Hound', 'life_span': '10 - 13 years', 'temperament': 'Aloof, Clownish, Dignified, Independent, Happy', 'origin': 'Afghanistan, Iran, Pakistan', 'reference_image_id': 'hMyT4CDXR'}, {'weight': {'imperial': '44 - 66', 'metric': '20 - 30'}, 'height': {'imperial': '30', 'metric': '76'}, 'id': 3, 'name': 'African Hunting Dog', 'bred_for': 'A wild pack animal', 'life_span': '11 years', 'temperament': 'Wild, Hardworking, Dutiful', 'origin': '', 'reference_image_id': 'rkiByec47'}, {'weight': {'imperial': '40 - 65', 'metric': '18 - 29'}, 'height': {'imperial': '21 - 23', 'metric': '53 - 58'}, 'id': 4, 'name': 'Airedale Terrier', 'bred_for': 'Badger, otter hunting', 'breed_group': 'Terrier', 'life_span': '10 - 13 years', 'temperament': 'Outgoing, Friendly, Alert, Confident, Intelligent, Courageous', 'origin': 'United Kingdom, England', 'reference_image_id': '1-7cgoZSh'}, {'weight': {'imperial': '90 - 120', 'metric': '41 - 54'}, 'height': {'imperial': '28 - 34', 'metric': '71 - 86'}, 'id': 5, 'name': 'Akbash Dog', 'bred_for': 'Sheep guarding', 'breed_group': 'Working', 'life_span': '10 - 12 years', 'temperament': 'Loyal, Independent, Intelligent, Brave', 'origin': '', 'reference_image_id': '26pHT3Qk7'}, {'weight': {'imperial': '65 - 115', 'metric': '29 - 52'}, 'height': {'imperial': '24 - 28', 'metric': '61 - 71'}, 'id': 6, 'name': 'Akita', 'bred_for': 'Hunting bears', 'breed_group': 'Working', 'life_span': '10 - 14 years', 'temperament': 'Docile, Alert, Responsive, Dignified, Composed, Friendly, Receptive, Faithful, Courageous', 'reference_image_id': 'BFRYBufpm'}, {'weight': {'imperial': '55 - 90', 'metric': '25 - 41'}, 'height': {'imperial': '18 - 24', 'metric': '46 - 61'}, 'id': 7, 'name': 'Alapaha Blue Blood Bulldog', 'description': \"The Alapaha Blue Blood Bulldog is a well-developed, exaggerated bulldog with a broad head and natural drop ears. The prominent muzzle is covered by loose upper lips. The prominent eyes are set well apart. The Alapaha's coat is relatively short and fairly stiff. Preferred colors are blue merle, brown merle, or red merle all trimmed in white or chocolate and white. Also preferred are the glass eyes (blue) or marble eyes (brown and blue mixed in a single eye). The ears and tail are never trimmed or docked. The body is sturdy and very muscular. The well-muscled hips are narrower than the chest. The straight back is as long as the dog is high at the shoulders. The dewclaws are never removed and the feet are cat-like.\", 'bred_for': 'Guarding', 'breed_group': 'Mixed', 'life_span': '12 - 13 years', 'history': '', 'temperament': 'Loving, Protective, Trainable, Dutiful, Responsible', 'reference_image_id': '33mJ-V3RX'}, {'weight': {'imperial': '38 - 50', 'metric': '17 - 23'}, 'height': {'imperial': '23 - 26', 'metric': '58 - 66'}, 'id': 8, 'name': 'Alaskan Husky', 'bred_for': 'Sled pulling', 'breed_group': 'Mixed', 'life_span': '10 - 13 years', 'temperament': 'Friendly, Energetic, Loyal, Gentle, Confident', 'reference_image_id': '-HgpNnGXl'}, {'weight': {'imperial': '65 - 100', 'metric': '29 - 45'}, 'height': {'imperial': '23 - 25', 'metric': '58 - 64'}, 'id': 9, 'name': 'Alaskan Malamute', 'bred_for': 'Hauling heavy freight, Sled pulling', 'breed_group': 'Working', 'life_span': '12 - 15 years', 'temperament': 'Friendly, Affectionate, Devoted, Loyal, Dignified, Playful', 'reference_image_id': 'dW5UucTIW'}, {'weight': {'imperial': '60 - 120', 'metric': '27 - 54'}, 'height': {'imperial': '22 - 27', 'metric': '56 - 69'}, 'id': 10, 'name': 'American Bulldog', 'breed_group': 'Working', 'life_span': '10 - 12 years', 'temperament': 'Friendly, Assertive, Energetic, Loyal, Gentle, Confident, Dominant', 'reference_image_id': 'pk1AAdloG'}, {'weight': {'imperial': '30 - 150', 'metric': '14 - 68'}, 'height': {'imperial': '14 - 17', 'metric': '36 - 43'}, 'id': 11, 'name': 'American Bully', 'country_code': 'US', 'bred_for': 'Family companion dog', 'breed_group': '', 'life_span': '8 – 15 years', 'temperament': 'Strong Willed, Stubborn, Friendly, Clownish, Affectionate, Loyal, Obedient, Intelligent, Courageous', 'reference_image_id': 'sqQJDtbpY'}, {'weight': {'imperial': '20 - 40', 'metric': '9 - 18'}, 'height': {'imperial': '15 - 19', 'metric': '38 - 48'}, 'id': 12, 'name': 'American Eskimo Dog', 'country_code': 'US', 'bred_for': 'Circus performer', 'breed_group': 'Non-Sporting', 'life_span': '12 - 15 years', 'temperament': 'Friendly, Alert, Reserved, Intelligent, Protective', 'reference_image_id': 'Bymjyec4m'}, {'weight': {'imperial': '7 - 10', 'metric': '3 - 5'}, 'height': {'imperial': '9 - 12', 'metric': '23 - 30'}, 'id': 13, 'name': 'American Eskimo Dog (Miniature)', 'country_code': 'US', 'bred_for': 'Companionship', 'life_span': '13 – 15 years', 'temperament': 'Friendly, Alert, Reserved, Intelligent, Protective', 'reference_image_id': '_gn8GLrE6'}, {'weight': {'imperial': '65 - 75', 'metric': '29 - 34'}, 'height': {'imperial': '21 - 28', 'metric': '53 - 71'}, 'id': 14, 'name': 'American Foxhound', 'country_code': 'US', 'bred_for': 'Fox hunting, scent hound', 'breed_group': 'Hound', 'life_span': '8 - 15 years', 'temperament': 'Kind, Sweet-Tempered, Loyal, Independent, Intelligent, Loving', 'reference_image_id': 'S14n1x9NQ'}, {'weight': {'imperial': '30 - 60', 'metric': '14 - 27'}, 'height': {'imperial': '17 - 21', 'metric': '43 - 53'}, 'id': 15, 'name': 'American Pit Bull Terrier', 'country_code': 'US', 'bred_for': 'Fighting', 'breed_group': 'Terrier', 'life_span': '10 - 15 years', 'temperament': 'Strong Willed, Stubborn, Friendly, Clownish, Affectionate, Loyal, Obedient, Intelligent, Courageous', 'reference_image_id': 'HkC31gcNm'}, {'weight': {'imperial': '50 - 60', 'metric': '23 - 27'}, 'height': {'imperial': '17 - 19', 'metric': '43 - 48'}, 'id': 16, 'name': 'American Staffordshire Terrier', 'country_code': 'US', 'bred_for': '', 'breed_group': 'Terrier', 'life_span': '12 - 15 years', 'temperament': 'Tenacious, Friendly, Devoted, Loyal, Attentive, Courageous', 'reference_image_id': 'rJIakgc4m'}, {'weight': {'imperial': '25 - 45', 'metric': '11 - 20'}, 'height': {'imperial': '15 - 18', 'metric': '38 - 46'}, 'id': 17, 'name': 'American Water Spaniel', 'country_code': 'US', 'bred_for': 'Bird flushing and retrieving', 'breed_group': 'Sporting', 'life_span': '10 - 12 years', 'temperament': 'Friendly, Energetic, Obedient, Intelligent, Protective, Trainable', 'reference_image_id': 'SkmRJl9VQ'}, {'weight': {'imperial': '80 - 150', 'metric': '36 - 68'}, 'height': {'imperial': '27 - 29', 'metric': '69 - 74'}, 'id': 18, 'name': 'Anatolian Shepherd Dog', 'bred_for': 'Livestock herding', 'breed_group': 'Working', 'life_span': '11 - 13 years', 'temperament': 'Steady, Bold, Independent, Confident, Intelligent, Proud', 'reference_image_id': 'BJT0Jx5Nm'}, {'weight': {'imperial': '48 - 55', 'metric': '22 - 25'}, 'height': {'imperial': '20 - 22', 'metric': '51 - 56'}, 'id': 19, 'name': 'Appenzeller Sennenhund', 'bred_for': 'Herding livestock, pulling carts, and guarding the farm', 'life_span': '12 – 14 years', 'temperament': 'Reliable, Fearless, Energetic, Lively, Self-assured', 'reference_image_id': 'HkNkxlqEX'}, {'weight': {'imperial': '44 - 62', 'metric': '20 - 28'}, 'height': {'imperial': '17 - 20', 'metric': '43 - 51'}, 'id': 21, 'name': 'Australian Cattle Dog', 'country_code': 'AU', 'bred_for': 'Cattle herding, herding trials', 'breed_group': 'Herding', 'life_span': '12 - 14 years', 'temperament': 'Cautious, Energetic, Loyal, Obedient, Protective, Brave', 'reference_image_id': 'IBkYVm4v1'}, {'weight': {'imperial': '31 - 46', 'metric': '14 - 21'}, 'height': {'imperial': '17 - 20', 'metric': '43 - 51'}, 'id': 22, 'name': 'Australian Kelpie', 'country_code': 'AU', 'bred_for': 'Farm dog, Cattle herding', 'breed_group': 'Herding', 'life_span': '10 - 13 years', 'temperament': 'Friendly, Energetic, Alert, Loyal, Intelligent, Eager', 'reference_image_id': 'Hyq1ge9VQ'}, {'weight': {'imperial': '35 - 65', 'metric': '16 - 29'}, 'height': {'imperial': '18 - 23', 'metric': '46 - 58'}, 'id': 23, 'name': 'Australian Shepherd', 'country_code': 'AU', 'bred_for': 'Sheep herding', 'breed_group': 'Herding', 'life_span': '12 - 16 years', 'temperament': 'Good-natured, Affectionate, Intelligent, Active, Protective', 'reference_image_id': 'B1-llgq4m'}, {'weight': {'imperial': '14 - 16', 'metric': '6 - 7'}, 'height': {'imperial': '10 - 11', 'metric': '25 - 28'}, 'id': 24, 'name': 'Australian Terrier', 'country_code': 'AU', 'bred_for': 'Cattle herdering, hunting snakes and rodents', 'breed_group': 'Terrier', 'life_span': '15 years', 'temperament': 'Spirited, Alert, Loyal, Companionable, Even Tempered, Courageous', 'reference_image_id': 'r1Ylge5Vm'}, {'weight': {'imperial': '33 - 55', 'metric': '15 - 25'}, 'height': {'imperial': '23 - 29', 'metric': '58 - 74'}, 'id': 25, 'name': 'Azawakh', 'bred_for': 'Livestock guardian, hunting', 'breed_group': 'Hound', 'life_span': '10 - 13 years', 'temperament': 'Aloof, Affectionate, Attentive, Rugged, Fierce, Refined', 'reference_image_id': 'SkvZgx94m'}, {'weight': {'imperial': '40 - 65', 'metric': '18 - 29'}, 'height': {'imperial': '20 - 26', 'metric': '51 - 66'}, 'id': 26, 'name': 'Barbet', 'bred_for': 'Hunting water game', 'life_span': '13 – 15 years', 'temperament': 'Obedient, Companionable, Intelligent, Joyful', 'reference_image_id': 'HyWGexcVQ'}, {'weight': {'imperial': '22 - 24', 'metric': '10 - 11'}, 'height': {'imperial': '16 - 17', 'metric': '41 - 43'}, 'id': 28, 'name': 'Basenji', 'bred_for': 'Hunting', 'breed_group': 'Hound', 'life_span': '10 - 12 years', 'temperament': 'Affectionate, Energetic, Alert, Curious, Playful, Intelligent', 'reference_image_id': 'H1dGlxqNQ'}, {'weight': {'imperial': '35 - 40', 'metric': '16 - 18'}, 'height': {'imperial': '13 - 15', 'metric': '33 - 38'}, 'id': 29, 'name': 'Basset Bleu de Gascogne', 'bred_for': 'Hunting on foot.', 'breed_group': 'Hound', 'life_span': '10 - 14 years', 'temperament': 'Affectionate, Lively, Agile, Curious, Happy, Active', 'reference_image_id': 'BkMQll94X'}, {'weight': {'imperial': '50 - 65', 'metric': '23 - 29'}, 'height': {'imperial': '14', 'metric': '36'}, 'id': 30, 'name': 'Basset Hound', 'bred_for': 'Hunting by scent', 'breed_group': 'Hound', 'life_span': '12 - 15 years', 'temperament': 'Tenacious, Friendly, Affectionate, Devoted, Sweet-Tempered, Gentle', 'reference_image_id': 'Sy57xx9EX'}, {'weight': {'imperial': '20 - 35', 'metric': '9 - 16'}, 'height': {'imperial': '13 - 15', 'metric': '33 - 38'}, 'id': 31, 'name': 'Beagle', 'bred_for': 'Rabbit, hare hunting', 'breed_group': 'Hound', 'life_span': '13 - 16 years', 'temperament': 'Amiable, Even Tempered, Excitable, Determined, Gentle, Intelligent', 'reference_image_id': 'Syd4xxqEm'}, {'weight': {'imperial': '45 - 55', 'metric': '20 - 25'}, 'height': {'imperial': '20 - 22', 'metric': '51 - 56'}, 'id': 32, 'name': 'Bearded Collie', 'bred_for': 'Sheep herding', 'breed_group': 'Herding', 'life_span': '12 - 14 years', 'temperament': 'Self-confidence, Hardy, Lively, Alert, Intelligent, Active', 'reference_image_id': 'A09F4c1qP'}, {'weight': {'imperial': '80 - 110', 'metric': '36 - 50'}, 'height': {'imperial': '24 - 27.5', 'metric': '61 - 70'}, 'id': 33, 'name': 'Beauceron', 'bred_for': 'Boar herding, hunting, guarding', 'breed_group': 'Herding', 'life_span': '10 - 12 years', 'temperament': 'Fearless, Friendly, Intelligent, Protective, Calm', 'reference_image_id': 'HJQ8ge5V7'}, {'weight': {'imperial': '17 - 23', 'metric': '8 - 10'}, 'height': {'imperial': '15 - 16', 'metric': '38 - 41'}, 'id': 34, 'name': 'Bedlington Terrier', 'bred_for': 'Killing rat, badger, other vermin', 'breed_group': 'Terrier', 'life_span': '14 - 16 years', 'temperament': 'Affectionate, Spirited, Intelligent, Good-tempered', 'reference_image_id': 'ByK8gx947'}, {'weight': {'imperial': '40 - 80', 'metric': '18 - 36'}, 'height': {'imperial': '22 - 26', 'metric': '56 - 66'}, 'id': 36, 'name': 'Belgian Malinois', 'bred_for': 'Stock herding', 'breed_group': 'Herding', 'life_span': '12 - 14 years', 'temperament': 'Watchful, Alert, Stubborn, Friendly, Confident, Hard-working, Active, Protective', 'reference_image_id': 'r1f_ll5VX'}, {'weight': {'imperial': '40 - 65', 'metric': '18 - 29'}, 'height': {'imperial': '22 - 26', 'metric': '56 - 66'}, 'id': 38, 'name': 'Belgian Tervuren', 'bred_for': 'Guarding, Drafting, Police work.', 'breed_group': 'Herding', 'life_span': '10 - 12 years', 'temperament': 'Energetic, Alert, Loyal, Intelligent, Attentive, Protective', 'reference_image_id': 'B1KdxlcNX'}, {'weight': {'imperial': '65 - 120', 'metric': '29 - 54'}, 'height': {'imperial': '23 - 27.5', 'metric': '58 - 70'}, 'id': 41, 'name': 'Bernese Mountain Dog', 'bred_for': 'Draft work', 'breed_group': 'Working', 'life_span': '7 - 10 years', 'temperament': 'Affectionate, Loyal, Intelligent, Faithful', 'reference_image_id': 'S1fFlx5Em'}, {'weight': {'imperial': '10 - 18', 'metric': '5 - 8'}, 'height': {'imperial': '9.5 - 11.5', 'metric': '24 - 29'}, 'id': 42, 'name': 'Bichon Frise', 'bred_for': 'Companion', 'breed_group': 'Non-Sporting', 'life_span': '15 years', 'temperament': 'Feisty, Affectionate, Cheerful, Playful, Gentle, Sensitive', 'reference_image_id': 'HkuYlxqEQ'}, {'weight': {'imperial': '65 - 100', 'metric': '29 - 45'}, 'height': {'imperial': '23 - 27', 'metric': '58 - 69'}, 'id': 43, 'name': 'Black and Tan Coonhound', 'bred_for': 'Hunting raccoons, night hunting', 'breed_group': 'Hound', 'life_span': '10 - 12 years', 'temperament': 'Easygoing, Gentle, Adaptable, Trusting, Even Tempered, Lovable', 'reference_image_id': 'HJAFgxcNQ'}, {'weight': {'imperial': '80 - 110', 'metric': '36 - 50'}, 'height': {'imperial': '23 - 27', 'metric': '58 - 69'}, 'id': 45, 'name': 'Bloodhound', 'bred_for': 'Trailing', 'breed_group': 'Hound', 'life_span': '8 - 10 years', 'temperament': 'Stubborn, Affectionate, Gentle, Even Tempered', 'reference_image_id': 'Skdcgx9VX'}, {'weight': {'imperial': '45 - 80', 'metric': '20 - 36'}, 'height': {'imperial': '21 - 27', 'metric': '53 - 69'}, 'id': 47, 'name': 'Bluetick Coonhound', 'bred_for': 'Hunting with a superior sense of smell.', 'breed_group': 'Hound', 'life_span': '12 - 14 years', 'temperament': 'Friendly, Intelligent, Active', 'reference_image_id': 'rJxieg9VQ'}, {'weight': {'imperial': '110 - 200', 'metric': '50 - 91'}, 'height': {'imperial': '22 - 27', 'metric': '56 - 69'}, 'id': 48, 'name': 'Boerboel', 'bred_for': 'Guarding the homestead, farm work.', 'breed_group': 'Working', 'life_span': '10 - 12 years', 'temperament': 'Obedient, Confident, Intelligent, Dominant, Territorial', 'reference_image_id': 'HyOjge5Vm'}, {'weight': {'imperial': '30 - 45', 'metric': '14 - 20'}, 'height': {'imperial': '18 - 22', 'metric': '46 - 56'}, 'id': 50, 'name': 'Border Collie', 'bred_for': 'Sheep herder', 'breed_group': 'Herding', 'life_span': '12 - 16 years', 'temperament': 'Tenacious, Keen, Energetic, Responsive, Alert, Intelligent', 'reference_image_id': 'sGQvQUpsp'}, {'weight': {'imperial': '11.5 - 15.5', 'metric': '5 - 7'}, 'height': {'imperial': '11 - 16', 'metric': '28 - 41'}, 'id': 51, 'name': 'Border Terrier', 'bred_for': 'Fox bolting, ratting', 'breed_group': 'Terrier', 'life_span': '12 - 14 years', 'temperament': 'Fearless, Affectionate, Alert, Obedient, Intelligent, Even Tempered', 'reference_image_id': 'HJOpge9Em'}, {'weight': {'imperial': '10 - 25', 'metric': '5 - 11'}, 'height': {'imperial': '16 - 17', 'metric': '41 - 43'}, 'id': 53, 'name': 'Boston Terrier', 'bred_for': 'Ratting, Companionship', 'breed_group': 'Non-Sporting', 'life_span': '11 - 13 years', 'temperament': 'Friendly, Lively, Intelligent', 'reference_image_id': 'rkZRggqVX'}, {'weight': {'imperial': '70 - 110', 'metric': '32 - 50'}, 'height': {'imperial': '23.5 - 27.5', 'metric': '60 - 70'}, 'id': 54, 'name': 'Bouvier des Flandres', 'bred_for': 'Cattle herding', 'breed_group': 'Herding', 'life_span': '10 - 15 years', 'temperament': 'Protective, Loyal, Gentle, Intelligent, Familial, Rational', 'reference_image_id': 'Byd0xl5VX'}, {'weight': {'imperial': '50 - 70', 'metric': '23 - 32'}, 'height': {'imperial': '21.5 - 25', 'metric': '55 - 64'}, 'id': 55, 'name': 'Boxer', 'bred_for': 'Bull-baiting, guardian', 'breed_group': 'Working', 'life_span': '8 - 10 years', 'temperament': 'Devoted, Fearless, Friendly, Cheerful, Energetic, Loyal, Playful, Confident, Intelligent, Bright, Brave, Calm', 'reference_image_id': 'ry1kWe5VQ'}, {'weight': {'imperial': '25 - 40', 'metric': '11 - 18'}, 'height': {'imperial': '14 - 18', 'metric': '36 - 46'}, 'id': 56, 'name': 'Boykin Spaniel', 'bred_for': 'Turkey retrieving', 'breed_group': 'Sporting', 'life_span': '10 - 14 years', 'temperament': 'Friendly, Energetic, Companionable, Intelligent, Eager, Trainable', 'reference_image_id': 'ryHJZlcNX'}, {'weight': {'imperial': '55 - 88', 'metric': '25 - 40'}, 'height': {'imperial': '21.5 - 26.5', 'metric': '55 - 67'}, 'id': 57, 'name': 'Bracco Italiano', 'bred_for': 'Versatile gun dog', 'breed_group': 'Sporting', 'life_span': '10 - 12 years', 'temperament': 'Stubborn, Affectionate, Loyal, Playful, Companionable, Trainable', 'reference_image_id': 'S13yZg5VQ'}, {'weight': {'imperial': '70 - 90', 'metric': '32 - 41'}, 'height': {'imperial': '22 - 27', 'metric': '56 - 69'}, 'id': 58, 'name': 'Briard', 'bred_for': 'Herding, guarding sheep', 'breed_group': 'Herding', 'life_span': '10 - 12 years', 'temperament': 'Fearless, Loyal, Obedient, Intelligent, Faithful, Protective', 'reference_image_id': 'rkVlblcEQ'}, {'weight': {'imperial': '30 - 45', 'metric': '14 - 20'}, 'height': {'imperial': '17.5 - 20.5', 'metric': '44 - 52'}, 'id': 59, 'name': 'Brittany', 'bred_for': 'Pointing, retrieving', 'breed_group': 'Sporting', 'life_span': '12 - 14 years', 'temperament': 'Agile, Adaptable, Quick, Intelligent, Attentive, Happy', 'reference_image_id': 'HJWZZxc4X'}, {'weight': {'imperial': '50 - 70', 'metric': '23 - 32'}, 'height': {'imperial': '21 - 22', 'metric': '53 - 56'}, 'id': 61, 'name': 'Bull Terrier', 'bred_for': 'Bull baiting, Fighting', 'breed_group': 'Terrier', 'life_span': '10 - 12 years', 'temperament': 'Trainable, Protective, Sweet-Tempered, Keen, Active', 'reference_image_id': 'VSraIEQGd'}, {'weight': {'imperial': '25 - 33', 'metric': '11 - 15'}, 'height': {'imperial': '10 - 14', 'metric': '25 - 36'}, 'id': 62, 'name': 'Bull Terrier (Miniature)', 'bred_for': \"An elegant man's fashion statement\", 'life_span': '11 – 14 years', 'temperament': 'Trainable, Protective, Sweet-Tempered, Keen, Active, Territorial', 'reference_image_id': 'BkKZWlcVX'}, {'weight': {'imperial': '100 - 130', 'metric': '45 - 59'}, 'height': {'imperial': '24 - 27', 'metric': '61 - 69'}, 'id': 64, 'name': 'Bullmastiff', 'bred_for': 'Estate guardian', 'breed_group': 'Working', 'life_span': '8 - 12 years', 'temperament': 'Docile, Reliable, Devoted, Alert, Loyal, Reserved, Loving, Protective, Powerful, Calm, Courageous', 'reference_image_id': 'r1ifZl5E7'}, {'weight': {'imperial': '13 - 14', 'metric': '6 - 6'}, 'height': {'imperial': '9 - 10', 'metric': '23 - 25'}, 'id': 65, 'name': 'Cairn Terrier', 'bred_for': 'Bolting of otter, foxes, other vermin', 'breed_group': 'Terrier', 'life_span': '14 - 15 years', 'temperament': 'Hardy, Fearless, Assertive, Gay, Intelligent, Active', 'reference_image_id': 'Sk7Qbg9E7'}, {'weight': {'imperial': '88 - 120', 'metric': '40 - 54'}, 'height': {'imperial': '23.5 - 27.5', 'metric': '60 - 70'}, 'id': 67, 'name': 'Cane Corso', 'bred_for': 'Companion, guard dog, and hunter', 'breed_group': 'Working', 'life_span': '10 - 11 years', 'temperament': 'Trainable, Reserved, Stable, Quiet, Even Tempered, Calm', 'reference_image_id': 'r15m-lc4m'}, {'weight': {'imperial': '25 - 38', 'metric': '11 - 17'}, 'height': {'imperial': '10.5 - 12.5', 'metric': '27 - 32'}, 'id': 68, 'name': 'Cardigan Welsh Corgi', 'bred_for': 'Cattle droving', 'breed_group': 'Herding', 'life_span': '12 - 14 years', 'temperament': 'Affectionate, Devoted, Alert, Companionable, Intelligent, Active', 'reference_image_id': 'SyXN-e9NX'}, {'weight': {'imperial': '50 - 95', 'metric': '23 - 43'}, 'height': {'imperial': '20 - 26', 'metric': '51 - 66'}, 'id': 69, 'name': 'Catahoula Leopard Dog', 'bred_for': 'Driving livestock', 'breed_group': 'Herding', 'life_span': '10 - 12 years', 'temperament': 'Energetic, Inquisitive, Independent, Gentle, Intelligent, Loving', 'reference_image_id': 'BJcNbec4X'}, {'weight': {'imperial': '80 - 100', 'metric': '36 - 45'}, 'height': {'imperial': '24 - 33.5', 'metric': '61 - 85'}, 'id': 70, 'name': 'Caucasian Shepherd (Ovcharka)', 'bred_for': 'Guard dogs, defending sheep from predators, mainly wolves, jackals and bears', 'breed_group': 'Working', 'life_span': '10 - 12 years', 'temperament': 'Alert, Quick, Dominant, Powerful, Calm, Strong', 'reference_image_id': 'r1rrWe5Em'}, {'weight': {'imperial': '13 - 18', 'metric': '6 - 8'}, 'height': {'imperial': '12 - 13', 'metric': '30 - 33'}, 'id': 71, 'name': 'Cavalier King Charles Spaniel', 'bred_for': 'Flushing small birds, companion', 'breed_group': 'Toy', 'life_span': '10 - 14 years', 'temperament': 'Fearless, Affectionate, Sociable, Patient, Playful, Adaptable', 'reference_image_id': 'HJRBbe94Q'}, {'weight': {'imperial': '55 - 80', 'metric': '25 - 36'}, 'height': {'imperial': '21 - 26', 'metric': '53 - 66'}, 'id': 76, 'name': 'Chesapeake Bay Retriever', 'bred_for': 'Water Retriever', 'breed_group': 'Sporting', 'life_span': '10 - 13 years', 'temperament': 'Affectionate, Intelligent, Quiet, Dominant, Happy, Protective', 'reference_image_id': '9BXwUeCc2'}, {'weight': {'imperial': '10 - 13', 'metric': '5 - 6'}, 'height': {'imperial': '11 - 13', 'metric': '28 - 33'}, 'id': 78, 'name': 'Chinese Crested', 'bred_for': 'Ratting, lapdog, curio', 'breed_group': 'Toy', 'life_span': '10 - 14 years', 'temperament': 'Affectionate, Sweet-Tempered, Lively, Alert, Playful, Happy', 'reference_image_id': 'B1pDZx9Nm'}, {'weight': {'imperial': '45 - 60', 'metric': '20 - 27'}, 'height': {'imperial': '18 - 20', 'metric': '46 - 51'}, 'id': 79, 'name': 'Chinese Shar-Pei', 'bred_for': 'Fighting', 'breed_group': 'Non-Sporting', 'life_span': '10 years', 'temperament': 'Suspicious, Affectionate, Devoted, Reserved, Independent, Loving', 'reference_image_id': 'B1ruWl94Q'}, {'weight': {'imperial': '50 - 90', 'metric': '23 - 41'}, 'height': {'imperial': '22 - 26', 'metric': '56 - 66'}, 'id': 80, 'name': 'Chinook', 'bred_for': 'Sled pulling', 'breed_group': 'Working', 'life_span': '12 - 15 years', 'temperament': 'Friendly, Alert, Dignified, Intelligent, Calm', 'reference_image_id': 'Sypubg54Q'}, {'weight': {'imperial': '40 - 70', 'metric': '18 - 32'}, 'height': {'imperial': '17 - 20', 'metric': '43 - 51'}, 'id': 81, 'name': 'Chow Chow', 'bred_for': 'Guardian, cart pulling, hunting', 'breed_group': 'Non-Sporting', 'life_span': '12 - 15 years', 'temperament': 'Aloof, Loyal, Independent, Quiet', 'reference_image_id': 'ry8KWgqEQ'}, {'weight': {'imperial': '55 - 85', 'metric': '25 - 39'}, 'height': {'imperial': '17 - 20', 'metric': '43 - 51'}, 'id': 84, 'name': 'Clumber Spaniel', 'bred_for': 'Bird flushing, retrieving', 'breed_group': 'Sporting', 'life_span': '10 - 12 years', 'temperament': 'Affectionate, Loyal, Dignified, Gentle, Calm, Great-hearted', 'reference_image_id': 'rkeqWgq4Q'}, {'weight': {'imperial': '20 - 30', 'metric': '9 - 14'}, 'height': {'imperial': '14 - 15', 'metric': '36 - 38'}, 'id': 86, 'name': 'Cocker Spaniel', 'bred_for': 'Bird flushing, retrieving', 'breed_group': 'Sporting', 'life_span': '12 - 15 years', 'temperament': 'Trainable, Friendly, Affectionate, Playful, Quiet, Faithful', 'reference_image_id': '1lFmrzECl'}, {'weight': {'imperial': '20 - 30', 'metric': '9 - 14'}, 'height': {'imperial': '14 - 15', 'metric': '36 - 38'}, 'id': 87, 'name': 'Cocker Spaniel (American)', 'bred_for': 'Hunting the American woodcock', 'breed_group': 'Sporting', 'life_span': '12 - 15 years', 'temperament': 'Outgoing, Sociable, Trusting, Joyful, Even Tempered, Merry', 'reference_image_id': 'HkRcZe547'}, {'weight': {'imperial': '9 - 15', 'metric': '4 - 7'}, 'height': {'imperial': '9 - 11', 'metric': '23 - 28'}, 'id': 89, 'name': 'Coton de Tulear', 'bred_for': 'Accompanying ladies on long sea voyages, ratters onboard ship.', 'breed_group': 'Non-Sporting', 'life_span': '13 - 16 years', 'temperament': 'Affectionate, Lively, Playful, Intelligent, Trainable, Vocal', 'reference_image_id': 'SyviZlqNm'}, {'weight': {'imperial': '50 - 55', 'metric': '23 - 25'}, 'height': {'imperial': '19 - 23', 'metric': '48 - 58'}, 'id': 92, 'name': 'Dalmatian', 'bred_for': 'Carriage dog - trot alongside carriages to protect the occupants from banditry or other interference', 'breed_group': 'Non-Sporting', 'life_span': '10 - 13 years', 'temperament': 'Outgoing, Friendly, Energetic, Playful, Sensitive, Intelligent, Active', 'reference_image_id': 'SkJ3blcN7'}, {'weight': {'imperial': '66 - 88', 'metric': '30 - 40'}, 'height': {'imperial': '24 - 28', 'metric': '61 - 71'}, 'id': 94, 'name': 'Doberman Pinscher', 'bred_for': 'Guardian', 'breed_group': 'Working', 'life_span': '10 years', 'temperament': 'Fearless, Energetic, Alert, Loyal, Obedient, Confident, Intelligent', 'reference_image_id': 'HyL3bl94Q'}, {'weight': {'imperial': '80 - 100', 'metric': '36 - 45'}, 'height': {'imperial': '23.5 - 27', 'metric': '60 - 69'}, 'id': 95, 'name': 'Dogo Argentino', 'bred_for': 'Big-game hunting', 'breed_group': 'Working', 'life_span': '10 - 12 years', 'temperament': 'Friendly, Affectionate, Cheerful, Loyal, Tolerant, Protective', 'reference_image_id': 'S1nhWx94Q'}, {'weight': {'imperial': '50 - 70', 'metric': '23 - 32'}, 'height': {'imperial': '22 - 24.5', 'metric': '56 - 62'}, 'id': 98, 'name': 'Dutch Shepherd', 'bred_for': 'Farms, watchdog, guard duty', 'life_span': '15 years', 'temperament': 'Reliable, Affectionate, Alert, Loyal, Obedient, Trainable', 'reference_image_id': 'BkE6Wg5E7'}, {'weight': {'imperial': '45 - 80', 'metric': '20 - 36'}, 'height': {'imperial': '24 - 25', 'metric': '61 - 64'}, 'id': 101, 'name': 'English Setter', 'bred_for': 'Bird setting, retrieving', 'breed_group': 'Sporting', 'life_span': '12 years', 'temperament': 'Strong Willed, Mischievous, Affectionate, Energetic, Playful, Companionable, Gentle, Hard-working, Intelligent, Eager, People-Oriented', 'reference_image_id': 'By4A-eqVX'}, {'weight': {'imperial': '44 - 66', 'metric': '20 - 30'}, 'height': {'imperial': '18 - 23', 'metric': '46 - 58'}, 'id': 102, 'name': 'English Shepherd', 'bred_for': 'Herding & guarding livestock, farm watch dog', 'breed_group': 'Working', 'life_span': '10 - 13 years', 'temperament': 'Kind, Energetic, Independent, Adaptable, Intelligent, Bossy', 'reference_image_id': 'H1QyMe5EQ'}, {'weight': {'imperial': '35 - 50', 'metric': '16 - 23'}, 'height': {'imperial': '19 - 20', 'metric': '48 - 51'}, 'id': 103, 'name': 'English Springer Spaniel', 'bred_for': 'Bird flushing, retrieving', 'breed_group': 'Sporting', 'life_span': '12 - 14 years', 'temperament': 'Affectionate, Cheerful, Alert, Intelligent, Attentive, Active', 'reference_image_id': 'Hk0Jfe5VQ'}, {'weight': {'imperial': '8 - 14', 'metric': '4 - 6'}, 'height': {'imperial': '10', 'metric': '25'}, 'id': 104, 'name': 'English Toy Spaniel', 'bred_for': 'Companion of kings', 'breed_group': 'Toy', 'life_span': '10 - 12 years', 'temperament': 'Affectionate, Reserved, Playful, Gentle, Happy, Loving', 'reference_image_id': 'SkIgzxqNQ'}, {'weight': {'imperial': '6 - 8', 'metric': '3 - 4'}, 'height': {'imperial': '10 - 12', 'metric': '25 - 30'}, 'id': 105, 'name': 'English Toy Terrier', 'bred_for': 'Rat-baiting', 'life_span': '12 - 13 years', 'temperament': 'Stubborn, Alert, Companionable, Intelligent, Cunning, Trainable', 'reference_image_id': 'SJ6eMxqEQ'}, {'weight': {'imperial': '40 - 70', 'metric': '18 - 32'}, 'height': {'imperial': '20.5 - 23.5', 'metric': '52 - 60'}, 'id': 107, 'name': 'Eurasier', 'bred_for': 'Companionship', 'breed_group': 'Non-Sporting', 'life_span': '12 - 14 years', 'temperament': 'Alert, Reserved, Intelligent, Even Tempered, Watchful, Calm', 'reference_image_id': 'S1VWGx9Nm'}, {'weight': {'imperial': '35 - 50', 'metric': '16 - 23'}, 'height': {'imperial': '17 - 18', 'metric': '43 - 46'}, 'id': 108, 'name': 'Field Spaniel', 'bred_for': 'Bird flushing, retrieving', 'breed_group': 'Sporting', 'life_span': '11 - 15 years', 'temperament': 'Docile, Cautious, Sociable, Sensitive, Adaptable, Familial', 'reference_image_id': 'SkJfGecE7'}, {'weight': {'imperial': '33 - 53', 'metric': '15 - 24'}, 'height': {'imperial': '16 - 21', 'metric': '41 - 53'}, 'id': 110, 'name': 'Finnish Lapphund', 'bred_for': 'Herding reindeer', 'breed_group': 'Herding', 'life_span': '12 - 15 years', 'temperament': 'Friendly, Keen, Faithful, Calm, Courageous', 'reference_image_id': 'S1KMGg5Vm'}, {'weight': {'imperial': '23 - 28', 'metric': '10 - 13'}, 'height': {'imperial': '15.5 - 20', 'metric': '39 - 51'}, 'id': 111, 'name': 'Finnish Spitz', 'bred_for': 'Hunting birds, small mammals', 'breed_group': 'Non-Sporting', 'life_span': '12 - 15 years', 'temperament': 'Playful, Loyal, Independent, Intelligent, Happy, Vocal', 'reference_image_id': '3PjHlQbkV'}, {'weight': {'imperial': '28', 'metric': '13'}, 'height': {'imperial': '11 - 12', 'metric': '28 - 30'}, 'id': 113, 'name': 'French Bulldog', 'bred_for': 'Lapdog', 'breed_group': 'Non-Sporting', 'life_span': '9 - 11 years', 'temperament': 'Playful, Affectionate, Keen, Sociable, Lively, Alert, Easygoing, Patient, Athletic, Bright', 'reference_image_id': 'HyWNfxc47'}, {'weight': {'imperial': '25 - 45', 'metric': '11 - 20'}, 'height': {'imperial': '17 - 20', 'metric': '43 - 51'}, 'id': 114, 'name': 'German Pinscher', 'bred_for': 'Watchdog, Hunting vermin on the farm.', 'breed_group': 'Working', 'life_span': '12 - 14 years', 'temperament': 'Spirited, Lively, Intelligent, Loving, Even Tempered, Familial', 'reference_image_id': 'B1u4zgqE7'}, {'weight': {'imperial': '50 - 90', 'metric': '23 - 41'}, 'height': {'imperial': '22 - 26', 'metric': '56 - 66'}, 'id': 115, 'name': 'German Shepherd Dog', 'bred_for': 'Herding, Guard dog', 'breed_group': 'Herding', 'life_span': '10 - 13 years', 'temperament': 'Alert, Loyal, Obedient, Curious, Confident, Intelligent, Watchful, Courageous', 'reference_image_id': 'SJyBfg5NX'}, {'weight': {'imperial': '45 - 70', 'metric': '20 - 32'}, 'height': {'imperial': '21 - 25', 'metric': '53 - 64'}, 'id': 116, 'name': 'German Shorthaired Pointer', 'bred_for': 'General hunting', 'breed_group': 'Sporting', 'life_span': '12 - 14 years', 'temperament': 'Boisterous, Bold, Affectionate, Intelligent, Cooperative, Trainable', 'reference_image_id': 'SJqBMg5Nm'}, {'weight': {'imperial': '65 - 90', 'metric': '29 - 41'}, 'height': {'imperial': '23.5 - 27.5', 'metric': '60 - 70'}, 'id': 119, 'name': 'Giant Schnauzer', 'bred_for': 'Herding, guarding', 'breed_group': 'Working', 'life_span': '10 - 12 years', 'temperament': 'Strong Willed, Kind, Loyal, Intelligent, Dominant, Powerful', 'reference_image_id': 'H1NIzlcV7'}, {'weight': {'imperial': '32 - 40', 'metric': '15 - 18'}, 'height': {'imperial': '12.5 - 14', 'metric': '32 - 36'}, 'id': 120, 'name': 'Glen of Imaal Terrier', 'bred_for': 'Rid the home and farm of vermin, and hunt badger and fox', 'breed_group': 'Terrier', 'life_span': '12 - 15 years', 'temperament': 'Spirited, Agile, Loyal, Gentle, Active, Courageous', 'reference_image_id': 'H1oLMe94m'}, {'weight': {'imperial': '55 - 75', 'metric': '25 - 34'}, 'height': {'imperial': '21.5 - 24', 'metric': '55 - 61'}, 'id': 121, 'name': 'Golden Retriever', 'bred_for': 'Retrieving', 'breed_group': 'Sporting', 'life_span': '10 - 12 years', 'temperament': 'Intelligent, Kind, Reliable, Friendly, Trustworthy, Confident', 'reference_image_id': 'HJ7Pzg5EQ'}, {'weight': {'imperial': '45 - 80', 'metric': '20 - 36'}, 'height': {'imperial': '23 - 27', 'metric': '58 - 69'}, 'id': 123, 'name': 'Gordon Setter', 'bred_for': 'Find and point gamebirds', 'breed_group': 'Sporting', 'life_span': '10 - 12 years', 'temperament': 'Fearless, Alert, Loyal, Confident, Gay, Eager', 'reference_image_id': 'SJ5vzx5NX'}, {'weight': {'imperial': '110 - 190', 'metric': '50 - 86'}, 'height': {'imperial': '28 - 32', 'metric': '71 - 81'}, 'id': 124, 'name': 'Great Dane', 'bred_for': 'Hunting & holding boars, Guardian', 'breed_group': 'Working', 'life_span': '7 - 10 years', 'temperament': 'Friendly, Devoted, Reserved, Gentle, Confident, Loving', 'reference_image_id': 'B1Edfl9NX'}, {'weight': {'imperial': '85 - 115', 'metric': '39 - 52'}, 'height': {'imperial': '25 - 32', 'metric': '64 - 81'}, 'id': 125, 'name': 'Great Pyrenees', 'bred_for': 'Sheep guardian', 'breed_group': 'Working', 'life_span': '10 - 12 years', 'temperament': 'Strong Willed, Fearless, Affectionate, Patient, Gentle, Confident', 'reference_image_id': 'B12uzg9V7'}, {'weight': {'imperial': '50 - 70', 'metric': '23 - 32'}, 'height': {'imperial': '27 - 30', 'metric': '69 - 76'}, 'id': 127, 'name': 'Greyhound', 'bred_for': 'Coursing hares', 'breed_group': 'Hound', 'life_span': '10 - 13 years', 'temperament': 'Affectionate, Athletic, Gentle, Intelligent, Quiet, Even Tempered', 'reference_image_id': 'ryNYMx94X'}, {'weight': {'imperial': '12', 'metric': '5'}, 'height': {'imperial': '9 - 11', 'metric': '23 - 28'}, 'id': 128, 'name': 'Griffon Bruxellois', 'bred_for': 'Hunt and kill vermin in stables', 'life_span': '10 – 15 years', 'temperament': 'Self-important, Inquisitive, Alert, Companionable, Sensitive, Watchful', 'reference_image_id': 'ryoYGec4Q'}, {'weight': {'imperial': '40 - 60', 'metric': '18 - 27'}, 'height': {'imperial': '18 - 22', 'metric': '46 - 56'}, 'id': 129, 'name': 'Harrier', 'bred_for': 'Hunting hares by trailing them', 'breed_group': 'Hound', 'life_span': '12 - 15 years', 'temperament': 'Outgoing, Friendly, Cheerful, Sweet-Tempered, Tolerant, Active', 'reference_image_id': 'B1IcfgqE7'}, {'weight': {'imperial': '7 - 13', 'metric': '3 - 6'}, 'height': {'imperial': '8.5 - 11.5', 'metric': '22 - 29'}, 'id': 130, 'name': 'Havanese', 'bred_for': 'Companionship', 'breed_group': 'Toy', 'life_span': '14 - 15 years', 'temperament': 'Affectionate, Responsive, Playful, Companionable, Gentle, Intelligent', 'reference_image_id': 'rkXiGl9V7'}, {'weight': {'imperial': '35 - 70', 'metric': '16 - 32'}, 'height': {'imperial': '24 - 27', 'metric': '61 - 69'}, 'id': 134, 'name': 'Irish Setter', 'bred_for': 'Bird setting, retrieving', 'breed_group': 'Sporting', 'life_span': '10 - 11 years', 'temperament': 'Affectionate, Energetic, Lively, Independent, Playful, Companionable', 'reference_image_id': 'S1osGeqVm'}, {'weight': {'imperial': '25 - 27', 'metric': '11 - 12'}, 'height': {'imperial': '18', 'metric': '46'}, 'id': 135, 'name': 'Irish Terrier', 'breed_group': 'Terrier', 'life_span': '12 - 16 years', 'temperament': 'Respectful, Lively, Intelligent, Dominant, Protective, Trainable', 'reference_image_id': 'By-hGecVX'}, {'weight': {'imperial': '105 - 180', 'metric': '48 - 82'}, 'height': {'imperial': '30 - 35', 'metric': '76 - 89'}, 'id': 137, 'name': 'Irish Wolfhound', 'bred_for': 'Coursing wolves, elk', 'breed_group': 'Hound', 'life_span': '6 - 8 years', 'temperament': 'Sweet-Tempered, Loyal, Dignified, Patient, Thoughtful, Generous', 'reference_image_id': 'Hyd2zgcEX'}, {'weight': {'imperial': '7 - 15', 'metric': '3 - 7'}, 'height': {'imperial': '13 - 15', 'metric': '33 - 38'}, 'id': 138, 'name': 'Italian Greyhound', 'bred_for': 'Lapdog', 'breed_group': 'Toy', 'life_span': '12 - 15 years', 'temperament': 'Mischievous, Affectionate, Agile, Athletic, Companionable, Intelligent', 'reference_image_id': 'SJAnzg9NX'}, {'weight': {'imperial': '4 - 9', 'metric': '2 - 4'}, 'height': {'imperial': '8 - 11', 'metric': '20 - 28'}, 'id': 140, 'name': 'Japanese Chin', 'bred_for': 'Lapdog', 'breed_group': 'Toy', 'life_span': '12 - 14 years', 'temperament': 'Alert, Loyal, Independent, Intelligent, Loving, Cat-like', 'reference_image_id': 'r1H6feqEm'}, {'weight': {'imperial': '15 - 19', 'metric': '7 - 9'}, 'height': {'imperial': '12 - 15', 'metric': '30 - 38'}, 'id': 141, 'name': 'Japanese Spitz', 'bred_for': 'Companion', 'life_span': '10 – 16 years', 'temperament': 'Affectionate, Obedient, Playful, Companionable, Intelligent, Proud', 'reference_image_id': 'HksaMxqNX'}, {'weight': {'imperial': '35 - 45', 'metric': '16 - 20'}, 'height': {'imperial': '17 - 18', 'metric': '43 - 46'}, 'id': 142, 'name': 'Keeshond', 'bred_for': 'Barge watchdog', 'breed_group': 'Non-Sporting', 'life_span': '12 - 15 years', 'temperament': 'Agile, Obedient, Playful, Quick, Sturdy, Bright', 'reference_image_id': 'S1GAGg9Vm'}, {'weight': {'imperial': '80 - 100', 'metric': '36 - 45'}, 'height': {'imperial': '25.5 - 27.5', 'metric': '65 - 70'}, 'id': 144, 'name': 'Komondor', 'bred_for': 'Sheep guardian', 'breed_group': 'Working', 'life_span': '10 - 12 years', 'temperament': 'Steady, Fearless, Affectionate, Independent, Gentle, Calm', 'reference_image_id': 'Bko0fl547'}, {'weight': {'imperial': '20 - 30', 'metric': '9 - 14'}, 'height': {'imperial': '14 - 16', 'metric': '36 - 41'}, 'id': 145, 'name': 'Kooikerhondje', 'bred_for': 'Luring ducks into traps - \"tolling\"', 'breed_group': 'Sporting', 'life_span': '12 - 15 years', 'temperament': 'Benevolent, Agile, Alert, Intelligent, Active, Territorial', 'reference_image_id': 'kOMy84GQE'}, {'weight': {'imperial': '70 - 115', 'metric': '32 - 52'}, 'height': {'imperial': '26 - 30', 'metric': '66 - 76'}, 'id': 147, 'name': 'Kuvasz', 'bred_for': 'Guardian, hunting large game', 'breed_group': 'Working', 'life_span': '8 - 10 years', 'temperament': 'Clownish, Loyal, Patient, Independent, Intelligent, Protective', 'reference_image_id': 'BykZ7ecVX'}, {'weight': {'imperial': '55 - 80', 'metric': '25 - 36'}, 'height': {'imperial': '21.5 - 24.5', 'metric': '55 - 62'}, 'id': 149, 'name': 'Labrador Retriever', 'bred_for': 'Water retrieving', 'breed_group': 'Sporting', 'life_span': '10 - 13 years', 'temperament': 'Kind, Outgoing, Agile, Gentle, Intelligent, Trusting, Even Tempered', 'reference_image_id': 'B1uW7l5VX'}, {'weight': {'imperial': '24 - 35', 'metric': '11 - 16'}, 'height': {'imperial': '16 - 19', 'metric': '41 - 48'}, 'id': 151, 'name': 'Lagotto Romagnolo', 'bred_for': 'Water retrieval dog in the marshes of Romagna', 'breed_group': 'Sporting', 'life_span': '14 - 16 years', 'temperament': 'Keen, Loyal, Companionable, Loving, Active, Trainable', 'reference_image_id': 'ryzzmgqE7'}, {'weight': {'imperial': '6 - 13', 'metric': '3 - 6'}, 'height': {'imperial': '10 - 12', 'metric': '25 - 30'}, 'id': 153, 'name': 'Lancashire Heeler', 'bred_for': 'Cattle herding, Ratting, Driving cattle to market.', 'life_span': '12 – 15 years', 'temperament': 'Clever, Friendly, Alert, Intelligent', 'reference_image_id': 'S1RGml5Em'}, {'weight': {'imperial': '120 - 170', 'metric': '54 - 77'}, 'height': {'imperial': '25.5 - 31.5', 'metric': '65 - 80'}, 'id': 155, 'name': 'Leonberger', 'bred_for': 'Guardian, appearance.', 'breed_group': 'Working', 'life_span': '6 - 8 years', 'temperament': 'Obedient, Fearless, Loyal, Companionable, Adaptable, Loving', 'reference_image_id': 'ByrmQlqVm'}, {'weight': {'imperial': '12 - 18', 'metric': '5 - 8'}, 'height': {'imperial': '10 - 11', 'metric': '25 - 28'}, 'id': 156, 'name': 'Lhasa Apso', 'bred_for': 'Guarding inside the home, companion', 'breed_group': 'Non-Sporting', 'life_span': '12 - 15 years', 'temperament': 'Steady, Fearless, Friendly, Devoted, Assertive, Spirited, Energetic, Lively, Alert, Obedient, Playful, Intelligent', 'reference_image_id': 'SJp7Qe5EX'}, {'weight': {'imperial': '4 - 7', 'metric': '2 - 3'}, 'height': {'imperial': '8 - 10', 'metric': '20 - 25'}, 'id': 161, 'name': 'Maltese', 'bred_for': 'Lapdog', 'breed_group': 'Toy', 'life_span': '15 - 18 years', 'temperament': 'Playful, Docile, Fearless, Affectionate, Sweet-Tempered, Lively, Responsive, Easygoing, Gentle, Intelligent, Active', 'reference_image_id': 'B1SV7gqN7'}, {'weight': {'imperial': '20 - 40', 'metric': '9 - 18'}, 'height': {'imperial': '13 - 18', 'metric': '33 - 46'}, 'id': 165, 'name': 'Miniature American Shepherd', 'breed_group': 'Herding', 'life_span': '12 - 15 years', 'temperament': 'Energetic, Loyal, Intelligent, Trainable', 'reference_image_id': 'BkHHQgcN7'}, {'weight': {'imperial': '8 - 11', 'metric': '4 - 5'}, 'height': {'imperial': '10 - 12.5', 'metric': '25 - 32'}, 'id': 167, 'name': 'Miniature Pinscher', 'bred_for': 'Small vermin hunting', 'breed_group': 'Toy', 'life_span': '15 years', 'temperament': 'Clever, Outgoing, Friendly, Energetic, Responsive, Playful', 'reference_image_id': 'Hy3H7g94X'}, {'weight': {'imperial': '11 - 20', 'metric': '5 - 9'}, 'height': {'imperial': '12 - 14', 'metric': '30 - 36'}, 'id': 168, 'name': 'Miniature Schnauzer', 'bred_for': 'Ratting', 'breed_group': 'Terrier', 'life_span': '12 - 14 years', 'temperament': 'Fearless, Friendly, Spirited, Alert, Obedient, Intelligent', 'reference_image_id': 'SJIUQl9NX'}, {'weight': {'imperial': '100 - 150', 'metric': '45 - 68'}, 'height': {'imperial': '26 - 28', 'metric': '66 - 71'}, 'id': 171, 'name': 'Newfoundland', 'bred_for': 'All purpose water dog, fishing aid', 'breed_group': 'Working', 'life_span': '8 - 10 years', 'temperament': 'Sweet-Tempered, Gentle, Trainable', 'reference_image_id': 'Sk4DXl54m'}, {'weight': {'imperial': '11 - 12', 'metric': '5 - 5'}, 'height': {'imperial': '9 - 10', 'metric': '23 - 25'}, 'id': 172, 'name': 'Norfolk Terrier', 'bred_for': 'Ratting, fox bolting', 'breed_group': 'Terrier', 'life_span': '12 - 15 years', 'temperament': 'Self-confidence, Fearless, Spirited, Companionable, Happy, Lovable', 'reference_image_id': 'B1ADQg94X'}, {'weight': {'imperial': '11 - 12', 'metric': '5 - 5'}, 'height': {'imperial': '10', 'metric': '25'}, 'id': 176, 'name': 'Norwich Terrier', 'bred_for': 'Ratting, fox bolting', 'breed_group': 'Terrier', 'life_span': '12 - 15 years', 'temperament': 'Hardy, Affectionate, Energetic, Sensitive, Intelligent', 'reference_image_id': 'BkgKXlqE7'}, {'weight': {'imperial': '35 - 50', 'metric': '16 - 23'}, 'height': {'imperial': '17 - 21', 'metric': '43 - 53'}, 'id': 177, 'name': 'Nova Scotia Duck Tolling Retriever', 'breed_group': 'Sporting', 'life_span': '12 - 14 years', 'temperament': 'Outgoing, Alert, Patient, Intelligent, Loving', 'reference_image_id': 'SyYtQe5V7'}, {'weight': {'imperial': '60 - 100', 'metric': '27 - 45'}, 'height': {'imperial': '21', 'metric': '53'}, 'id': 178, 'name': 'Old English Sheepdog', 'bred_for': 'Driving sheep, cattle', 'breed_group': 'Herding', 'life_span': '10 - 12 years', 'temperament': 'Sociable, Bubbly, Playful, Adaptable, Intelligent, Loving', 'reference_image_id': 'HkZ57lq4m'}, {'weight': {'imperial': '65 – 85', 'metric': 'NaN'}, 'height': {'imperial': '15 - 19', 'metric': '38 - 48'}, 'id': 179, 'name': 'Olde English Bulldogge', 'life_span': '9 – 14 years', 'temperament': 'Friendly, Alert, Confident, Loving, Courageous, Strong', 'reference_image_id': 'B1d5me547'}, {'weight': {'imperial': '3 - 12', 'metric': '1 - 5'}, 'height': {'imperial': '8 - 11', 'metric': '20 - 28'}, 'id': 181, 'name': 'Papillon', 'bred_for': 'Lapdog', 'breed_group': 'Toy', 'life_span': '13 - 17 years', 'temperament': 'Hardy, Friendly, Energetic, Alert, Intelligent, Happy', 'reference_image_id': 'SkJj7e547'}, {'weight': {'imperial': '14', 'metric': '6'}, 'height': {'imperial': '6 - 9', 'metric': '15 - 23'}, 'id': 183, 'name': 'Pekingese', 'bred_for': 'Lapdog', 'breed_group': 'Toy', 'life_span': '14 - 18 years', 'temperament': 'Opinionated, Good-natured, Stubborn, Affectionate, Aggressive, Intelligent', 'reference_image_id': 'ByIiml9Nm'}, {'weight': {'imperial': '25 - 30', 'metric': '11 - 14'}, 'height': {'imperial': '10 - 12', 'metric': '25 - 30'}, 'id': 184, 'name': 'Pembroke Welsh Corgi', 'bred_for': 'Driving stock to market in northern Wales', 'breed_group': 'Herding', 'life_span': '12 - 14 years', 'temperament': 'Tenacious, Outgoing, Friendly, Bold, Playful, Protective', 'reference_image_id': 'rJ6iQeqEm'}, {'weight': {'imperial': '88 - 110', 'metric': '40 - 50'}, 'height': {'imperial': '22 - 25.5', 'metric': '56 - 65'}, 'id': 185, 'name': 'Perro de Presa Canario', 'breed_group': 'Working', 'life_span': '10 - 12 years', 'temperament': 'Strong Willed, Suspicious, Gentle, Dominant, Calm', 'reference_image_id': 'S1V3Qeq4X'}, {'weight': {'imperial': '40 - 60', 'metric': '18 - 27'}, 'height': {'imperial': '21 - 25', 'metric': '53 - 64'}, 'id': 188, 'name': 'Pharaoh Hound', 'bred_for': 'Hunting rabbits', 'breed_group': 'Hound', 'life_span': '12 - 14 years', 'temperament': 'Affectionate, Sociable, Playful, Intelligent, Active, Trainable', 'reference_image_id': 'Byz6mgqEQ'}, {'weight': {'imperial': '40 - 60', 'metric': '18 - 27'}, 'height': {'imperial': '20 - 25', 'metric': '51 - 64'}, 'id': 189, 'name': 'Plott', 'bred_for': 'Hunting big-game like Boar.', 'breed_group': 'Hound', 'life_span': '12 - 14 years', 'temperament': 'Bold, Alert, Loyal, Intelligent', 'reference_image_id': 'B1i67l5VQ'}, {'weight': {'imperial': '3 - 7', 'metric': '1 - 3'}, 'height': {'imperial': '8 - 12', 'metric': '20 - 30'}, 'id': 193, 'name': 'Pomeranian', 'bred_for': 'Companion', 'breed_group': 'Toy', 'life_span': '15 years', 'temperament': 'Extroverted, Friendly, Sociable, Playful, Intelligent, Active', 'reference_image_id': 'HJd0XecNX'}, {'weight': {'imperial': '15 - 17', 'metric': '7 - 8'}, 'height': {'imperial': '11 - 15', 'metric': '28 - 38'}, 'id': 196, 'name': 'Poodle (Miniature)', 'life_span': '12 – 15 years', 'reference_image_id': 'Hkxk4ecVX'}, {'weight': {'imperial': '6 - 9', 'metric': '3 - 4'}, 'height': {'imperial': '9 - 11', 'metric': '23 - 28'}, 'id': 197, 'name': 'Poodle (Toy)', 'life_span': '18 years', 'reference_image_id': 'rJFJVxc4m'}, {'weight': {'imperial': '14 - 18', 'metric': '6 - 8'}, 'height': {'imperial': '10 - 12', 'metric': '25 - 30'}, 'id': 201, 'name': 'Pug', 'bred_for': 'Lapdog', 'breed_group': 'Toy', 'life_span': '12 - 14 years', 'temperament': 'Docile, Clever, Charming, Stubborn, Sociable, Playful, Quiet, Attentive', 'reference_image_id': 'HyJvcl9N7'}, {'weight': {'imperial': '25 - 35', 'metric': '11 - 16'}, 'height': {'imperial': '16 - 17', 'metric': '41 - 43'}, 'id': 204, 'name': 'Puli', 'bred_for': 'Herding', 'breed_group': 'Herding', 'life_span': '12 - 16 Years years', 'temperament': 'Energetic, Agile, Loyal, Obedient, Intelligent, Faithful', 'reference_image_id': 'ryPgVl5N7'}, {'weight': {'imperial': '18 - 33', 'metric': '8 - 15'}, 'height': {'imperial': '15 - 18.5', 'metric': '38 - 47'}, 'id': 205, 'name': 'Pumi', 'breed_group': 'Herding', 'life_span': '13 - 15 years', 'temperament': 'Lively, Reserved, Intelligent, Active, Protective, Vocal', 'reference_image_id': 'SyRe4xcN7'}, {'weight': {'imperial': '8 - 25', 'metric': '4 - 11'}, 'height': {'imperial': '10 - 13', 'metric': '25 - 33'}, 'id': 207, 'name': 'Rat Terrier', 'breed_group': 'Terrier', 'life_span': '12 - 18 years', 'temperament': 'Affectionate, Lively, Inquisitive, Alert, Intelligent, Loving', 'reference_image_id': 'HkXWNl9E7'}, {'weight': {'imperial': '45 - 80', 'metric': '20 - 36'}, 'height': {'imperial': '21 - 27', 'metric': '53 - 69'}, 'id': 208, 'name': 'Redbone Coonhound', 'bred_for': 'Hunting raccoon, deer, bear, and cougar.', 'breed_group': 'Hound', 'life_span': '10 - 12 years', 'temperament': 'Affectionate, Energetic, Independent, Companionable, Familial, Unflappable', 'reference_image_id': 'HJMzEl5N7'}, {'weight': {'imperial': '75 - 80', 'metric': '34 - 36'}, 'height': {'imperial': '24 - 27', 'metric': '61 - 69'}, 'id': 209, 'name': 'Rhodesian Ridgeback', 'bred_for': 'Big game hunting, guarding', 'breed_group': 'Hound', 'life_span': '10 - 12 years', 'temperament': 'Strong Willed, Mischievous, Loyal, Dignified, Sensitive, Intelligent', 'reference_image_id': 'By9zNgqE7'}, {'weight': {'imperial': '75 - 110', 'metric': '34 - 50'}, 'height': {'imperial': '22 - 27', 'metric': '56 - 69'}, 'id': 210, 'name': 'Rottweiler', 'bred_for': 'Cattle drover, guardian, draft', 'breed_group': 'Working', 'life_span': '8 - 10 years', 'temperament': 'Steady, Good-natured, Fearless, Devoted, Alert, Obedient, Confident, Self-assured, Calm, Courageous', 'reference_image_id': 'r1xXEgcNX'}, {'weight': {'imperial': '3 - 6', 'metric': '1 - 3'}, 'height': {'imperial': '7.5 - 10.5', 'metric': '19 - 27'}, 'id': 211, 'name': 'Russian Toy', 'breed_group': 'Toy', 'life_span': '10 - 12 years', 'reference_image_id': 'HkP7Vxc4Q'}, {'weight': {'imperial': '130 - 180', 'metric': '59 - 82'}, 'height': {'imperial': '25.5 - 27.5', 'metric': '65 - 70'}, 'id': 212, 'name': 'Saint Bernard', 'bred_for': 'Draft, search, rescue', 'breed_group': 'Working', 'life_span': '7 - 10 years', 'temperament': 'Friendly, Lively, Gentle, Watchful, Calm', 'reference_image_id': '_Qf9nfRzL'}, {'weight': {'imperial': '35 - 65', 'metric': '16 - 29'}, 'height': {'imperial': '23 - 28', 'metric': '58 - 71'}, 'id': 213, 'name': 'Saluki', 'bred_for': 'Coursing gazelle and hare', 'breed_group': 'Hound', 'life_span': '12 - 14 years', 'temperament': 'Aloof, Reserved, Intelligent, Quiet', 'reference_image_id': 'fjFIuehNo'}, {'weight': {'imperial': '50 - 60', 'metric': '23 - 27'}, 'height': {'imperial': '19 - 23.5', 'metric': '48 - 60'}, 'id': 214, 'name': 'Samoyed', 'bred_for': 'Herding reindeer, guardian, draft', 'breed_group': 'Working', 'life_span': '12 - 14 years', 'temperament': 'Stubborn, Friendly, Sociable, Lively, Alert, Playful', 'reference_image_id': 'S1T8Ee9Nm'}, {'weight': {'imperial': '10 - 16', 'metric': '5 - 7'}, 'height': {'imperial': '10 - 13', 'metric': '25 - 33'}, 'id': 216, 'name': 'Schipperke', 'bred_for': 'Barge watchdog', 'breed_group': 'Non-Sporting', 'life_span': '13 - 15 years', 'temperament': 'Fearless, Agile, Curious, Independent, Confident, Faithful', 'reference_image_id': 'SyBvVgc47'}, {'weight': {'imperial': '70 - 130', 'metric': '32 - 59'}, 'height': {'imperial': '28 - 32', 'metric': '71 - 81'}, 'id': 218, 'name': 'Scottish Deerhound', 'bred_for': 'Coursing deer', 'breed_group': 'Hound', 'life_span': '8 - 10 years', 'temperament': 'Docile, Friendly, Dignified, Gentle', 'reference_image_id': 'SkNjqx9NQ'}, {'weight': {'imperial': '18 - 22', 'metric': '8 - 10'}, 'height': {'imperial': '10', 'metric': '25'}, 'id': 219, 'name': 'Scottish Terrier', 'bred_for': 'Vermin hunting', 'breed_group': 'Terrier', 'life_span': '11 - 13 years', 'temperament': 'Feisty, Alert, Independent, Playful, Quick, Self-assured', 'reference_image_id': 'Bklnce5NX'}, {'weight': {'imperial': '30', 'metric': '14'}, 'height': {'imperial': '13 - 16', 'metric': '33 - 41'}, 'id': 221, 'name': 'Shetland Sheepdog', 'bred_for': 'Sheep herding', 'breed_group': 'Herding', 'life_span': '12 - 14 years', 'temperament': 'Affectionate, Lively, Responsive, Alert, Loyal, Reserved, Playful, Gentle, Intelligent, Active, Trainable, Strong', 'reference_image_id': 'rJa29l9E7'}, {'weight': {'imperial': '17 - 23', 'metric': '8 - 10'}, 'height': {'imperial': '13.5 - 16.5', 'metric': '34 - 42'}, 'id': 222, 'name': 'Shiba Inu', 'bred_for': 'Hunting in the mountains of Japan, Alert Watchdog', 'breed_group': 'Non-Sporting', 'life_span': '12 - 16 years', 'temperament': 'Charming, Fearless, Keen, Alert, Confident, Faithful', 'reference_image_id': 'Zn3IjPX3f'}, {'weight': {'imperial': '9 - 16', 'metric': '4 - 7'}, 'height': {'imperial': '8 - 11', 'metric': '20 - 28'}, 'id': 223, 'name': 'Shih Tzu', 'bred_for': 'Lapdog', 'breed_group': 'Toy', 'life_span': '10 - 18 years', 'temperament': 'Clever, Spunky, Outgoing, Friendly, Affectionate, Lively, Alert, Loyal, Independent, Playful, Gentle, Intelligent, Happy, Active, Courageous', 'reference_image_id': 'BkrJjgcV7'}, {'weight': {'imperial': '120 - 140', 'metric': '54 - 64'}, 'height': {'imperial': '26 - 30', 'metric': '66 - 76'}, 'id': 225, 'name': 'Shiloh Shepherd', 'bred_for': 'Swimming, Carrying backpacks, Pulling carts or sleds', 'life_span': '9 – 14 years', 'temperament': 'Outgoing, Loyal, Companionable, Gentle, Loving, Trainable', 'reference_image_id': 'SJJxjecEX'}, {'weight': {'imperial': '35 - 60', 'metric': '16 - 27'}, 'height': {'imperial': '20 - 23.5', 'metric': '51 - 60'}, 'id': 226, 'name': 'Siberian Husky', 'bred_for': 'Sled pulling', 'breed_group': 'Working', 'life_span': '12 years', 'temperament': 'Outgoing, Friendly, Alert, Gentle, Intelligent', 'reference_image_id': 'S17ZilqNm'}, {'weight': {'imperial': '8 - 10', 'metric': '4 - 5'}, 'height': {'imperial': '9 - 10', 'metric': '23 - 25'}, 'id': 228, 'name': 'Silky Terrier', 'bred_for': 'Small vermin hunting, companionship', 'breed_group': 'Toy', 'life_span': '12 - 15 years', 'temperament': 'Friendly, Responsive, Inquisitive, Alert, Quick, Joyful', 'reference_image_id': 'ByzGsl5Nm'}, {'weight': {'imperial': 'up - 18', 'metric': 'NaN - 8'}, 'height': {'imperial': '15.5', 'metric': '39'}, 'id': 232, 'name': 'Smooth Fox Terrier', 'bred_for': 'Fox bolting', 'breed_group': 'Terrier', 'life_span': '12 - 14 years', 'temperament': 'Fearless, Affectionate, Alert, Playful, Intelligent, Active', 'reference_image_id': 'Syszjx9Em'}, {'weight': {'imperial': '30 - 40', 'metric': '14 - 18'}, 'height': {'imperial': '16 - 18', 'metric': '41 - 46'}, 'id': 233, 'name': 'Soft Coated Wheaten Terrier', 'bred_for': 'Vermin hunting, guarding, all-around farm helper', 'breed_group': 'Terrier', 'life_span': '12 - 15 years', 'temperament': 'Affectionate, Spirited, Energetic, Playful, Intelligent, Faithful', 'reference_image_id': 'HJHmix5NQ'}, {'weight': {'imperial': '30 - 50', 'metric': '14 - 23'}, 'height': {'imperial': '16 - 20', 'metric': '41 - 51'}, 'id': 235, 'name': 'Spanish Water Dog', 'bred_for': 'Herding flocks of sheep and goats from one pasture to another', 'breed_group': 'Sporting', 'life_span': '12 - 15 years', 'temperament': 'Trainable, Diligent, Affectionate, Loyal, Athletic, Intelligent', 'reference_image_id': 'HJf4jl9VX'}, {'weight': {'imperial': '61 - 85', 'metric': '28 - 39'}, 'height': {'imperial': '22.5 - 27.5', 'metric': '57 - 70'}, 'id': 236, 'name': 'Spinone Italiano', 'breed_group': 'Sporting', 'life_span': '10 - 12 years', 'temperament': 'Docile, Friendly, Affectionate, Loyal, Patient, Gentle', 'reference_image_id': 'rk5Eoe5Nm'}, {'weight': {'imperial': '24 - 38', 'metric': '11 - 17'}, 'height': {'imperial': '14 - 16', 'metric': '36 - 41'}, 'id': 238, 'name': 'Staffordshire Bull Terrier', 'bred_for': '', 'breed_group': 'Terrier', 'life_span': '12 - 14 years', 'temperament': 'Reliable, Fearless, Bold, Affectionate, Loyal, Intelligent, Courageous', 'reference_image_id': 'H1zSie9V7'}, {'weight': {'imperial': '30 - 50', 'metric': '14 - 23'}, 'height': {'imperial': '17.5 - 19.5', 'metric': '44 - 50'}, 'id': 239, 'name': 'Standard Schnauzer', 'bred_for': 'Ratting, guarding', 'breed_group': 'Working', 'life_span': '13 - 15 years', 'temperament': 'Trainable, Good-natured, Devoted, Lively, Playful, Intelligent', 'reference_image_id': 'tmzeu6ID_'}, {'weight': {'imperial': '20 - 30', 'metric': '9 - 14'}, 'height': {'imperial': '11.5 - 13.5', 'metric': '29 - 34'}, 'id': 242, 'name': 'Swedish Vallhund', 'breed_group': 'Herding', 'life_span': '12 - 14 years', 'temperament': 'Fearless, Friendly, Energetic, Alert, Intelligent, Watchful', 'reference_image_id': 'HJ-Dix94Q'}, {'weight': {'imperial': '35 - 55', 'metric': '16 - 25'}, 'height': {'imperial': '20 - 24', 'metric': '51 - 61'}, 'id': 243, 'name': 'Thai Ridgeback', 'breed_group': 'Hound', 'life_span': '10 - 12 years', 'temperament': 'Protective, Loyal, Independent, Intelligent, Loving, Familial', 'reference_image_id': 'zv89hR-O8'}, {'weight': {'imperial': '85 - 140', 'metric': '39 - 64'}, 'height': {'imperial': '24 - 26', 'metric': '61 - 66'}, 'id': 244, 'name': 'Tibetan Mastiff', 'breed_group': 'Working', 'life_span': '10 - 14 years', 'temperament': 'Strong Willed, Tenacious, Aloof, Stubborn, Intelligent, Protective', 'reference_image_id': 'SkM9sec47'}, {'weight': {'imperial': '9 - 15', 'metric': '4 - 7'}, 'height': {'imperial': '10', 'metric': '25'}, 'id': 245, 'name': 'Tibetan Spaniel', 'breed_group': 'Non-Sporting', 'life_span': '12 - 15 years', 'temperament': 'Willful, Aloof, Assertive, Independent, Playful, Intelligent, Happy', 'reference_image_id': 'Hyjcol947'}, {'weight': {'imperial': '20 - 24', 'metric': '9 - 11'}, 'height': {'imperial': '14 - 17', 'metric': '36 - 43'}, 'id': 246, 'name': 'Tibetan Terrier', 'bred_for': 'Good luck charms, mascots, watchdogs, herding dogs, and companions', 'breed_group': 'Non-Sporting', 'life_span': '12 - 15 years', 'temperament': 'Affectionate, Energetic, Amiable, Reserved, Gentle, Sensitive', 'reference_image_id': '6f5n_42mB'}, {'weight': {'imperial': '4 - 9', 'metric': '2 - 4'}, 'height': {'imperial': '8 - 11', 'metric': '20 - 28'}, 'id': 248, 'name': 'Toy Fox Terrier', 'breed_group': 'Toy', 'life_span': '12 - 15 years', 'temperament': 'Friendly, Spirited, Alert, Loyal, Playful, Intelligent', 'reference_image_id': 'B17ase9V7'}, {'weight': {'imperial': '45 - 80', 'metric': '20 - 36'}, 'height': {'imperial': '20 - 27', 'metric': '51 - 69'}, 'id': 250, 'name': 'Treeing Walker Coonhound', 'breed_group': 'Hound', 'life_span': '10 - 13 years', 'temperament': 'Clever, Affectionate, Confident, Intelligent, Loving, Trainable', 'reference_image_id': 'SkRpsgc47'}, {'weight': {'imperial': '50 - 65', 'metric': '23 - 29'}, 'height': {'imperial': '21 - 24', 'metric': '53 - 61'}, 'id': 251, 'name': 'Vizsla', 'bred_for': 'Pointing and trailing', 'breed_group': 'Sporting', 'life_span': '10 - 14 years', 'temperament': 'Affectionate, Energetic, Loyal, Gentle, Quiet', 'reference_image_id': 'r1o0jx9Em'}, {'weight': {'imperial': '55 - 90', 'metric': '25 - 41'}, 'height': {'imperial': '23 - 27', 'metric': '58 - 69'}, 'id': 253, 'name': 'Weimaraner', 'bred_for': 'Large game trailing and versatile gundog', 'breed_group': 'Sporting', 'life_span': '12 - 15 years', 'temperament': 'Steady, Aloof, Stubborn, Energetic, Alert, Intelligent, Powerful, Fast', 'reference_image_id': 'SyU12l9V7'}, {'weight': {'imperial': '35 - 55', 'metric': '16 - 25'}, 'height': {'imperial': '17 - 19', 'metric': '43 - 48'}, 'id': 254, 'name': 'Welsh Springer Spaniel', 'bred_for': 'Flushing and retrieving birds', 'breed_group': 'Sporting', 'life_span': '12 - 15 years', 'temperament': 'Stubborn, Friendly, Affectionate, Loyal, Playful, Active', 'reference_image_id': 'BJ1gnx5Vm'}, {'weight': {'imperial': '15 - 22', 'metric': '7 - 10'}, 'height': {'imperial': '10 - 11', 'metric': '25 - 28'}, 'id': 256, 'name': 'West Highland White Terrier', 'bred_for': 'Fox, badger, vermin hunting', 'breed_group': 'Terrier', 'life_span': '15 - 20 years', 'temperament': 'Hardy, Friendly, Alert, Independent, Gay, Active, Courageous', 'reference_image_id': 'Bkdx2g5Em'}, {'weight': {'imperial': '25 - 35', 'metric': '11 - 16'}, 'height': {'imperial': '18 - 22', 'metric': '46 - 56'}, 'id': 257, 'name': 'Whippet', 'bred_for': 'Coursing, racing', 'breed_group': 'Hound', 'life_span': '12 - 15 years', 'temperament': 'Friendly, Affectionate, Lively, Gentle, Intelligent, Quiet', 'reference_image_id': 'Hyv-ne94m'}, {'weight': {'imperial': '60 - 85', 'metric': '27 - 39'}, 'height': {'imperial': '22 - 25', 'metric': '56 - 64'}, 'id': 258, 'name': 'White Shepherd', 'life_span': '12 – 14 years', 'temperament': 'Self-confidence, Aloof, Fearless, Alert, Companionable, Eager', 'reference_image_id': 'r14M3e9E7'}, {'weight': {'imperial': '15 - 19', 'metric': '7 - 9'}, 'height': {'imperial': '13 - 16', 'metric': '33 - 41'}, 'id': 259, 'name': 'Wire Fox Terrier', 'bred_for': 'Vermin hunting, fox bolting', 'life_span': '13 – 14 years', 'history': ' England', 'temperament': 'Fearless, Friendly, Bold, Keen, Alert, Quick', 'reference_image_id': 'SJ6f2g9EQ'}, {'weight': {'imperial': '45 - 70', 'metric': '20 - 32'}, 'height': {'imperial': '20 - 24', 'metric': '51 - 61'}, 'id': 260, 'name': 'Wirehaired Pointing Griffon', 'bred_for': 'Gundog, \"swamp-tromping\", Flushing, pointing, and retrieving water fowl & game birds', 'breed_group': 'Sporting', 'life_span': '12 - 14 years', 'temperament': 'Loyal, Gentle, Vigilant, Trainable, Proud', 'reference_image_id': 'Bkam2l9Vm'}, {'weight': {'imperial': '45 - 65', 'metric': '20 - 29'}, 'height': {'imperial': '21.5 - 25', 'metric': '55 - 64'}, 'id': 261, 'name': 'Wirehaired Vizsla', 'breed_group': 'Sporting', 'life_span': '12 - 14 years', 'reference_image_id': 'r1I4hl5Em'}, {'weight': {'imperial': '9 - 31', 'metric': '4 - 14'}, 'height': {'imperial': '10 - 23', 'metric': '25 - 58'}, 'id': 262, 'name': 'Xoloitzcuintli', 'breed_group': 'Non-Sporting', 'life_span': '12 - 14 years', 'temperament': 'Cheerful, Alert, Companionable, Intelligent, Protective, Calm', 'reference_image_id': 'HkNS3gqEm'}, {'weight': {'imperial': '4 - 7', 'metric': '2 - 3'}, 'height': {'imperial': '8 - 9', 'metric': '20 - 23'}, 'id': 264, 'name': 'Yorkshire Terrier', 'bred_for': 'Small vermin hunting', 'breed_group': 'Toy', 'life_span': '12 - 16 years', 'temperament': 'Bold, Independent, Confident, Intelligent, Courageous', 'reference_image_id': 'B12BnxcVQ'}]\n"
     ]
    }
   ],
   "source": [
    "url = \"https://api.thedogapi.com//v1/breeds\"\n",
    "\n",
    "response = requests.get(url)\n",
    "\n",
    "print(response.json())"
   ]
  },
  {
   "cell_type": "code",
   "execution_count": 34,
   "id": "d815e3ae",
   "metadata": {},
   "outputs": [],
   "source": [
    "data = pd.DataFrame(response.json())"
   ]
  },
  {
   "cell_type": "code",
   "execution_count": 35,
   "id": "3e950332",
   "metadata": {},
   "outputs": [
    {
     "data": {
      "text/html": [
       "<div>\n",
       "<style scoped>\n",
       "    .dataframe tbody tr th:only-of-type {\n",
       "        vertical-align: middle;\n",
       "    }\n",
       "\n",
       "    .dataframe tbody tr th {\n",
       "        vertical-align: top;\n",
       "    }\n",
       "\n",
       "    .dataframe thead th {\n",
       "        text-align: right;\n",
       "    }\n",
       "</style>\n",
       "<table border=\"1\" class=\"dataframe\">\n",
       "  <thead>\n",
       "    <tr style=\"text-align: right;\">\n",
       "      <th></th>\n",
       "      <th>weight</th>\n",
       "      <th>height</th>\n",
       "      <th>id</th>\n",
       "      <th>name</th>\n",
       "      <th>bred_for</th>\n",
       "      <th>breed_group</th>\n",
       "      <th>life_span</th>\n",
       "      <th>temperament</th>\n",
       "      <th>origin</th>\n",
       "      <th>reference_image_id</th>\n",
       "      <th>country_code</th>\n",
       "      <th>description</th>\n",
       "      <th>history</th>\n",
       "    </tr>\n",
       "  </thead>\n",
       "  <tbody>\n",
       "    <tr>\n",
       "      <th>0</th>\n",
       "      <td>{'imperial': '6 - 13', 'metric': '3 - 6'}</td>\n",
       "      <td>{'imperial': '9 - 11.5', 'metric': '23 - 29'}</td>\n",
       "      <td>1</td>\n",
       "      <td>Affenpinscher</td>\n",
       "      <td>Small rodent hunting, lapdog</td>\n",
       "      <td>Toy</td>\n",
       "      <td>10 - 12 years</td>\n",
       "      <td>Stubborn, Curious, Playful, Adventurous, Activ...</td>\n",
       "      <td>Germany, France</td>\n",
       "      <td>BJa4kxc4X</td>\n",
       "      <td>NaN</td>\n",
       "      <td>NaN</td>\n",
       "      <td>NaN</td>\n",
       "    </tr>\n",
       "    <tr>\n",
       "      <th>1</th>\n",
       "      <td>{'imperial': '50 - 60', 'metric': '23 - 27'}</td>\n",
       "      <td>{'imperial': '25 - 27', 'metric': '64 - 69'}</td>\n",
       "      <td>2</td>\n",
       "      <td>Afghan Hound</td>\n",
       "      <td>Coursing and hunting</td>\n",
       "      <td>Hound</td>\n",
       "      <td>10 - 13 years</td>\n",
       "      <td>Aloof, Clownish, Dignified, Independent, Happy</td>\n",
       "      <td>Afghanistan, Iran, Pakistan</td>\n",
       "      <td>hMyT4CDXR</td>\n",
       "      <td>AG</td>\n",
       "      <td>NaN</td>\n",
       "      <td>NaN</td>\n",
       "    </tr>\n",
       "    <tr>\n",
       "      <th>2</th>\n",
       "      <td>{'imperial': '44 - 66', 'metric': '20 - 30'}</td>\n",
       "      <td>{'imperial': '30', 'metric': '76'}</td>\n",
       "      <td>3</td>\n",
       "      <td>African Hunting Dog</td>\n",
       "      <td>A wild pack animal</td>\n",
       "      <td>NaN</td>\n",
       "      <td>11 years</td>\n",
       "      <td>Wild, Hardworking, Dutiful</td>\n",
       "      <td></td>\n",
       "      <td>rkiByec47</td>\n",
       "      <td>NaN</td>\n",
       "      <td>NaN</td>\n",
       "      <td>NaN</td>\n",
       "    </tr>\n",
       "    <tr>\n",
       "      <th>3</th>\n",
       "      <td>{'imperial': '40 - 65', 'metric': '18 - 29'}</td>\n",
       "      <td>{'imperial': '21 - 23', 'metric': '53 - 58'}</td>\n",
       "      <td>4</td>\n",
       "      <td>Airedale Terrier</td>\n",
       "      <td>Badger, otter hunting</td>\n",
       "      <td>Terrier</td>\n",
       "      <td>10 - 13 years</td>\n",
       "      <td>Outgoing, Friendly, Alert, Confident, Intellig...</td>\n",
       "      <td>United Kingdom, England</td>\n",
       "      <td>1-7cgoZSh</td>\n",
       "      <td>NaN</td>\n",
       "      <td>NaN</td>\n",
       "      <td>NaN</td>\n",
       "    </tr>\n",
       "    <tr>\n",
       "      <th>4</th>\n",
       "      <td>{'imperial': '90 - 120', 'metric': '41 - 54'}</td>\n",
       "      <td>{'imperial': '28 - 34', 'metric': '71 - 86'}</td>\n",
       "      <td>5</td>\n",
       "      <td>Akbash Dog</td>\n",
       "      <td>Sheep guarding</td>\n",
       "      <td>Working</td>\n",
       "      <td>10 - 12 years</td>\n",
       "      <td>Loyal, Independent, Intelligent, Brave</td>\n",
       "      <td></td>\n",
       "      <td>26pHT3Qk7</td>\n",
       "      <td>NaN</td>\n",
       "      <td>NaN</td>\n",
       "      <td>NaN</td>\n",
       "    </tr>\n",
       "  </tbody>\n",
       "</table>\n",
       "</div>"
      ],
      "text/plain": [
       "                                          weight  \\\n",
       "0      {'imperial': '6 - 13', 'metric': '3 - 6'}   \n",
       "1   {'imperial': '50 - 60', 'metric': '23 - 27'}   \n",
       "2   {'imperial': '44 - 66', 'metric': '20 - 30'}   \n",
       "3   {'imperial': '40 - 65', 'metric': '18 - 29'}   \n",
       "4  {'imperial': '90 - 120', 'metric': '41 - 54'}   \n",
       "\n",
       "                                          height  id                 name  \\\n",
       "0  {'imperial': '9 - 11.5', 'metric': '23 - 29'}   1        Affenpinscher   \n",
       "1   {'imperial': '25 - 27', 'metric': '64 - 69'}   2         Afghan Hound   \n",
       "2             {'imperial': '30', 'metric': '76'}   3  African Hunting Dog   \n",
       "3   {'imperial': '21 - 23', 'metric': '53 - 58'}   4     Airedale Terrier   \n",
       "4   {'imperial': '28 - 34', 'metric': '71 - 86'}   5           Akbash Dog   \n",
       "\n",
       "                       bred_for breed_group      life_span  \\\n",
       "0  Small rodent hunting, lapdog         Toy  10 - 12 years   \n",
       "1          Coursing and hunting       Hound  10 - 13 years   \n",
       "2            A wild pack animal         NaN       11 years   \n",
       "3         Badger, otter hunting     Terrier  10 - 13 years   \n",
       "4                Sheep guarding     Working  10 - 12 years   \n",
       "\n",
       "                                         temperament  \\\n",
       "0  Stubborn, Curious, Playful, Adventurous, Activ...   \n",
       "1     Aloof, Clownish, Dignified, Independent, Happy   \n",
       "2                         Wild, Hardworking, Dutiful   \n",
       "3  Outgoing, Friendly, Alert, Confident, Intellig...   \n",
       "4             Loyal, Independent, Intelligent, Brave   \n",
       "\n",
       "                        origin reference_image_id country_code description  \\\n",
       "0              Germany, France          BJa4kxc4X          NaN         NaN   \n",
       "1  Afghanistan, Iran, Pakistan          hMyT4CDXR           AG         NaN   \n",
       "2                                       rkiByec47          NaN         NaN   \n",
       "3      United Kingdom, England          1-7cgoZSh          NaN         NaN   \n",
       "4                                       26pHT3Qk7          NaN         NaN   \n",
       "\n",
       "  history  \n",
       "0     NaN  \n",
       "1     NaN  \n",
       "2     NaN  \n",
       "3     NaN  \n",
       "4     NaN  "
      ]
     },
     "execution_count": 35,
     "metadata": {},
     "output_type": "execute_result"
    }
   ],
   "source": [
    "data.head()"
   ]
  },
  {
   "cell_type": "code",
   "execution_count": 36,
   "id": "184c4dd6",
   "metadata": {},
   "outputs": [
    {
     "data": {
      "text/plain": [
       "Index(['weight', 'height', 'id', 'name', 'bred_for', 'breed_group',\n",
       "       'life_span', 'temperament', 'origin', 'reference_image_id',\n",
       "       'country_code', 'description', 'history'],\n",
       "      dtype='object')"
      ]
     },
     "execution_count": 36,
     "metadata": {},
     "output_type": "execute_result"
    }
   ],
   "source": [
    "data.columns"
   ]
  },
  {
   "cell_type": "code",
   "execution_count": 37,
   "id": "f4ea9a1d",
   "metadata": {},
   "outputs": [
    {
     "data": {
      "text/plain": [
       "(172, 13)"
      ]
     },
     "execution_count": 37,
     "metadata": {},
     "output_type": "execute_result"
    }
   ],
   "source": [
    "data.shape"
   ]
  },
  {
   "cell_type": "markdown",
   "id": "93b9be5f",
   "metadata": {},
   "source": [
    "## Example-3-Different Endpoints"
   ]
  },
  {
   "cell_type": "code",
   "execution_count": 46,
   "id": "33371192",
   "metadata": {},
   "outputs": [
    {
     "name": "stdout",
     "output_type": "stream",
     "text": [
      "{'message': ['afghan', 'basset', 'blood', 'english', 'ibizan', 'plott', 'walker'], 'status': 'success'}\n"
     ]
    }
   ],
   "source": [
    "url = \"https://dog.ceo/api/breeds/list/all\"\n",
    "\n",
    "url1 = \"https://dog.ceo/api/breeds/image/random\"\n",
    "\n",
    "url2 = \"https://dog.ceo/api/breed/hound/images\"\n",
    "\n",
    "url3 = \"https://dog.ceo/api/breed/hound/list\"\n",
    "\n",
    "url4 = \"https://dog.ceo/api/breed/Affenpinscher/images/random\"\n",
    "\n",
    "response = requests.get(url3)\n",
    "\n",
    "print(response.json())"
   ]
  },
  {
   "cell_type": "code",
   "execution_count": 48,
   "id": "be995487",
   "metadata": {},
   "outputs": [],
   "source": [
    "# getting an image"
   ]
  },
  {
   "cell_type": "code",
   "execution_count": 47,
   "id": "9efac9d3",
   "metadata": {},
   "outputs": [
    {
     "name": "stdout",
     "output_type": "stream",
     "text": [
      "Requirement already satisfied: requests in c:\\users\\lapde\\appdata\\local\\programs\\python\\python310\\lib\\site-packages (2.28.2)\n",
      "Requirement already satisfied: charset-normalizer<4,>=2 in c:\\users\\lapde\\appdata\\local\\programs\\python\\python310\\lib\\site-packages (from requests) (3.0.1)\n",
      "Requirement already satisfied: idna<4,>=2.5 in c:\\users\\lapde\\appdata\\local\\programs\\python\\python310\\lib\\site-packages (from requests) (3.4)\n",
      "Requirement already satisfied: urllib3<1.27,>=1.21.1 in c:\\users\\lapde\\appdata\\local\\programs\\python\\python310\\lib\\site-packages (from requests) (1.26.14)\n",
      "Requirement already satisfied: certifi>=2017.4.17 in c:\\users\\lapde\\appdata\\local\\programs\\python\\python310\\lib\\site-packages (from requests) (2022.12.7)\n",
      "{'message': 'https://images.dog.ceo/breeds/keeshond/n02112350_7952.jpg', 'status': 'success'}\n"
     ]
    },
    {
     "name": "stderr",
     "output_type": "stream",
     "text": [
      "WARNING: Ignoring invalid distribution - (c:\\users\\lapde\\appdata\\local\\programs\\python\\python310\\lib\\site-packages)\n",
      "WARNING: Ignoring invalid distribution -rotobuf (c:\\users\\lapde\\appdata\\local\\programs\\python\\python310\\lib\\site-packages)\n",
      "WARNING: Ignoring invalid distribution - (c:\\users\\lapde\\appdata\\local\\programs\\python\\python310\\lib\\site-packages)\n",
      "WARNING: Ignoring invalid distribution -rotobuf (c:\\users\\lapde\\appdata\\local\\programs\\python\\python310\\lib\\site-packages)\n",
      "\n",
      "[notice] A new release of pip is available: 23.2.1 -> 23.3.1\n",
      "[notice] To update, run: python.exe -m pip install --upgrade pip\n"
     ]
    },
    {
     "data": {
      "text/html": [
       "<img src=\"https://images.dog.ceo/breeds/keeshond/n02112350_7952.jpg\"/>"
      ],
      "text/plain": [
       "<IPython.core.display.Image object>"
      ]
     },
     "metadata": {},
     "output_type": "display_data"
    }
   ],
   "source": [
    "!pip install requests\n",
    "from IPython.display import Image, display\n",
    "import requests\n",
    "\n",
    "# Your API URL\n",
    "url = \"https://dog.ceo/api/breeds/image/random\"  # Replace with your actual API URL and parameters\n",
    "\n",
    "# Making a GET request to the API\n",
    "response = requests.get(url)\n",
    "\n",
    "# Check if the request was successful\n",
    "if response.status_code == 200:\n",
    "    # Parse JSON response\n",
    "    data = response.json()\n",
    "    print(data)\n",
    "\n",
    "    # Assuming the response contains an image URL in the 'message' key\n",
    "    if 'message' in data and data['status'] == 'success':\n",
    "        image_url = data['message']\n",
    "        display(Image(url=image_url))\n",
    "    else:\n",
    "        print(\"No image URL found in the response.\")\n",
    "else:\n",
    "    print(\"Failed to retrieve data!\")\n"
   ]
  },
  {
   "cell_type": "code",
   "execution_count": null,
   "id": "67aa7e77",
   "metadata": {},
   "outputs": [],
   "source": []
  }
 ],
 "metadata": {
  "kernelspec": {
   "display_name": "Python 3 (ipykernel)",
   "language": "python",
   "name": "python3"
  },
  "language_info": {
   "codemirror_mode": {
    "name": "ipython",
    "version": 3
   },
   "file_extension": ".py",
   "mimetype": "text/x-python",
   "name": "python",
   "nbconvert_exporter": "python",
   "pygments_lexer": "ipython3",
   "version": "3.10.0"
  }
 },
 "nbformat": 4,
 "nbformat_minor": 5
}
